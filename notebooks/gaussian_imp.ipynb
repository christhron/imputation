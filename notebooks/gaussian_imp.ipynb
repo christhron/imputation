{
 "cells": [
  {
   "cell_type": "code",
   "execution_count": 1,
   "id": "8b35e7b0-48bc-4fde-ad96-2bb2cdd1a887",
   "metadata": {},
   "outputs": [],
   "source": [
    "import pandas as pd\n",
    "import os\n",
    "import matplotlib.pyplot as plt\n",
    "import numpy as np\n",
    "import seaborn as sns"
   ]
  },
  {
   "cell_type": "markdown",
   "id": "0a712ceb-e303-44c5-b826-34b5adefba4b",
   "metadata": {},
   "source": [
    "### Reading the data"
   ]
  },
  {
   "cell_type": "code",
   "execution_count": 2,
   "id": "da603500-71ac-479a-bb52-a46b618701fa",
   "metadata": {},
   "outputs": [
    {
     "name": "stderr",
     "output_type": "stream",
     "text": [
      "/tmp/ipykernel_766105/2543690903.py:1: DtypeWarning: Columns (0,2,3,4,5,6,7,8,9) have mixed types. Specify dtype option on import or set low_memory=False.\n",
      "  df = pd.read_csv(os.path.abspath('../data/Nal_filtre_FLX_NEE_01012011_31122017.csv'), encoding = \"ISO-8859-1\", sep = ';')\n"
     ]
    }
   ],
   "source": [
    "df = pd.read_csv(os.path.abspath('../data/Nal_filtre_FLX_NEE_01012011_31122017.csv'), encoding = \"ISO-8859-1\", sep = ';')\n",
    "df.columns = df.iloc[0] # fix the col names to be the 1st col\n",
    "df = df.iloc[1:] # fix the col names to be the 1st col"
   ]
  },
  {
   "cell_type": "code",
   "execution_count": 3,
   "id": "4535f17a-8ec2-4afd-8243-eb3f0a335b86",
   "metadata": {},
   "outputs": [
    {
     "data": {
      "text/html": [
       "<div>\n",
       "<style scoped>\n",
       "    .dataframe tbody tr th:only-of-type {\n",
       "        vertical-align: middle;\n",
       "    }\n",
       "\n",
       "    .dataframe tbody tr th {\n",
       "        vertical-align: top;\n",
       "    }\n",
       "\n",
       "    .dataframe thead th {\n",
       "        text-align: right;\n",
       "    }\n",
       "</style>\n",
       "<table border=\"1\" class=\"dataframe\">\n",
       "  <thead>\n",
       "    <tr style=\"text-align: right;\">\n",
       "      <th></th>\n",
       "      <th>heure</th>\n",
       "      <th>DateUTC</th>\n",
       "      <th>NEE</th>\n",
       "      <th>Ustar</th>\n",
       "      <th>Swin</th>\n",
       "      <th>T_meteo</th>\n",
       "      <th>VPD</th>\n",
       "      <th>Tsol1_10</th>\n",
       "      <th>Hv1</th>\n",
       "      <th>Hv2</th>\n",
       "    </tr>\n",
       "  </thead>\n",
       "  <tbody>\n",
       "    <tr>\n",
       "      <th>1</th>\n",
       "      <td>0</td>\n",
       "      <td>01/01/2011 00:00</td>\n",
       "      <td>NaN</td>\n",
       "      <td>0.23159</td>\n",
       "      <td>NaN</td>\n",
       "      <td>NaN</td>\n",
       "      <td>NaN</td>\n",
       "      <td>NaN</td>\n",
       "      <td>0.038</td>\n",
       "      <td>0.056</td>\n",
       "    </tr>\n",
       "    <tr>\n",
       "      <th>2</th>\n",
       "      <td>0.5</td>\n",
       "      <td>01/01/2011 00:30</td>\n",
       "      <td>NaN</td>\n",
       "      <td>0.20874</td>\n",
       "      <td>-3.113</td>\n",
       "      <td>18.64</td>\n",
       "      <td>1.569496568</td>\n",
       "      <td>27.385</td>\n",
       "      <td>0.038</td>\n",
       "      <td>0.056</td>\n",
       "    </tr>\n",
       "    <tr>\n",
       "      <th>3</th>\n",
       "      <td>1</td>\n",
       "      <td>01/01/2011 01:00</td>\n",
       "      <td>NaN</td>\n",
       "      <td>0.17778</td>\n",
       "      <td>-3.181</td>\n",
       "      <td>17.785</td>\n",
       "      <td>1.453069295</td>\n",
       "      <td>27.14</td>\n",
       "      <td>0.038</td>\n",
       "      <td>0.056</td>\n",
       "    </tr>\n",
       "  </tbody>\n",
       "</table>\n",
       "</div>"
      ],
      "text/plain": [
       "0 heure           DateUTC  NEE    Ustar    Swin T_meteo          VPD Tsol1_10  \\\n",
       "1     0  01/01/2011 00:00  NaN  0.23159     NaN     NaN          NaN      NaN   \n",
       "2   0.5  01/01/2011 00:30  NaN  0.20874  -3.113   18.64  1.569496568   27.385   \n",
       "3     1  01/01/2011 01:00  NaN  0.17778  -3.181  17.785  1.453069295    27.14   \n",
       "\n",
       "0    Hv1    Hv2  \n",
       "1  0.038  0.056  \n",
       "2  0.038  0.056  \n",
       "3  0.038  0.056  "
      ]
     },
     "execution_count": 3,
     "metadata": {},
     "output_type": "execute_result"
    }
   ],
   "source": [
    "df.head(3)"
   ]
  },
  {
   "cell_type": "markdown",
   "id": "948fbe23-e749-4c2f-ac08-9094cdb1e6ab",
   "metadata": {},
   "source": [
    "---"
   ]
  },
  {
   "cell_type": "markdown",
   "id": "82cdf397-19aa-4691-aea2-280a95f936f9",
   "metadata": {},
   "source": [
    "### Convert to Numpy"
   ]
  },
  {
   "cell_type": "code",
   "execution_count": 5,
   "id": "dd9dabfa-8535-4511-b3ad-dc34d471fc27",
   "metadata": {},
   "outputs": [
    {
     "name": "stdout",
     "output_type": "stream",
     "text": [
      "(122736, 8)\n"
     ]
    }
   ],
   "source": [
    "X = df.iloc[:,2:].values\n",
    "X = X.astype(float)\n",
    "print(X.shape)"
   ]
  },
  {
   "cell_type": "markdown",
   "id": "af15f098-d06b-4776-afa8-7ab926400ea8",
   "metadata": {},
   "source": [
    "---"
   ]
  },
  {
   "cell_type": "markdown",
   "id": "1485a43f-c6a2-4413-a86a-7544f15227bf",
   "metadata": {},
   "source": [
    "### Reshape for the seasonality"
   ]
  },
  {
   "cell_type": "code",
   "execution_count": 31,
   "id": "c6a2dcd8-8a35-4896-9c1d-f7dfa8dab892",
   "metadata": {},
   "outputs": [],
   "source": [
    "X_tensor = np.reshape(X, (8, -1,8))"
   ]
  },
  {
   "cell_type": "code",
   "execution_count": 96,
   "id": "fb45c18a-9420-4b9c-8a51-c1ebbfa57b69",
   "metadata": {},
   "outputs": [
    {
     "name": "stdout",
     "output_type": "stream",
     "text": [
      "(365, 48) (365, 12, 4)\n"
     ]
    },
    {
     "name": "stderr",
     "output_type": "stream",
     "text": [
      "/tmp/ipykernel_766105/3924775314.py:9: RuntimeWarning: Mean of empty slice\n",
      "  Xvals = np.nanmean(Xvals, axis=0)\n",
      "/tmp/ipykernel_766105/3924775314.py:13: RuntimeWarning: Mean of empty slice\n",
      "  Xt = np.nanmean(Xt,axis=2)\n"
     ]
    },
    {
     "data": {
      "image/png": "[encoded data removed]",
      "text/plain": [
       "<Figure size 432x288 with 1 Axes>"
      ]
     },
     "metadata": {
      "needs_background": "light"
     },
     "output_type": "display_data"
    }
   ],
   "source": [
    "ns = 5 # Number of seasons, why 5 not 4\n",
    "nt = 12 # Number of times of day, ???\n",
    "kSize = 5 # For smoothing, ????\n",
    "\n",
    "kernel = np.ones(kSize)/kSize\n",
    "Xvals = X[:,0]\n",
    "Xvals = Xvals[:365*(len(Xvals)//365)]\n",
    "Xvals = np.reshape(Xvals,(-1,365,48))\n",
    "Xvals = np.nanmean(Xvals, axis=0)\n",
    "\n",
    "Xt = np.reshape(Xvals,(-1,nt,48//nt))\n",
    "print(Xvals.shape, Xt.shape)\n",
    "Xt = np.nanmean(Xt,axis=2)\n",
    "for jt in range(nt):\n",
    "    plt.plot(np.arange(365),np.convolve(Xt[:,jt],kernel,mode = 'same'),'-')\n",
    "plt.title('Variation over the year by time of day')\n",
    "plt.xlabel('Day of the year')\n",
    "plt.ylabel('NEE value')\n",
    "plt.show()"
   ]
  },
  {
   "cell_type": "code",
   "execution_count": 97,
   "id": "93119edf-a0fe-45b5-ad7a-a5d40cff27d8",
   "metadata": {},
   "outputs": [
    {
     "data": {
      "text/plain": [
       "5"
      ]
     },
     "execution_count": 97,
     "metadata": {},
     "output_type": "execute_result"
    }
   ],
   "source": [
    "kSize\n"
   ]
  },
  {
   "cell_type": "code",
   "execution_count": 84,
   "id": "6b6abdbb-4657-4f4f-a9cd-cbb89ecb0a86",
   "metadata": {},
   "outputs": [
    {
     "data": {
      "text/plain": [
       "array([0.2, 0.2, 0.2, 0.2, 0.2])"
      ]
     },
     "execution_count": 84,
     "metadata": {},
     "output_type": "execute_result"
    }
   ],
   "source": [
    "kernel = np.ones(kSize)/5\n",
    "kernel"
   ]
  },
  {
   "cell_type": "code",
   "execution_count": 85,
   "id": "599de58a-9dc9-4c18-a5b4-a9eb8d47963a",
   "metadata": {},
   "outputs": [
    {
     "name": "stdout",
     "output_type": "stream",
     "text": [
      "[nan nan nan ... nan nan nan]\n",
      "(122736,)\n"
     ]
    }
   ],
   "source": [
    "Xvals = X[:,0] # this is NEE\n",
    "print(Xvals)\n",
    "print(Xvals.shape)"
   ]
  },
  {
   "cell_type": "code",
   "execution_count": 86,
   "id": "cf92d5b4-7a77-4d0c-9402-92e66b6fd064",
   "metadata": {},
   "outputs": [
    {
     "data": {
      "text/plain": [
       "122640"
      ]
     },
     "execution_count": 86,
     "metadata": {},
     "output_type": "execute_result"
    }
   ],
   "source": [
    "len(Xvals)//365*365"
   ]
  },
  {
   "cell_type": "code",
   "execution_count": 87,
   "id": "74c2b61c-a75b-44d6-8a68-abd62a448bf6",
   "metadata": {},
   "outputs": [
    {
     "data": {
      "text/plain": [
       "(122640,)"
      ]
     },
     "execution_count": 87,
     "metadata": {},
     "output_type": "execute_result"
    }
   ],
   "source": [
    "Xvals = Xvals[:365*(len(Xvals)//365)] # so Prof is deleting the extra\n",
    "Xvals.shape"
   ]
  },
  {
   "cell_type": "code",
   "execution_count": 88,
   "id": "eb04caf0-7a20-4879-a384-fec6757b16e6",
   "metadata": {},
   "outputs": [
    {
     "data": {
      "text/plain": [
       "7.0"
      ]
     },
     "execution_count": 88,
     "metadata": {},
     "output_type": "execute_result"
    }
   ],
   "source": [
    "122640/(48*365)"
   ]
  },
  {
   "cell_type": "code",
   "execution_count": 89,
   "id": "a2013b23-5216-400c-b6a7-97549229d969",
   "metadata": {},
   "outputs": [
    {
     "data": {
      "text/plain": [
       "17520"
      ]
     },
     "execution_count": 89,
     "metadata": {},
     "output_type": "execute_result"
    }
   ],
   "source": [
    "48*365"
   ]
  },
  {
   "cell_type": "code",
   "execution_count": 90,
   "id": "5461a1ca-3ceb-42df-b78c-0718794e41e0",
   "metadata": {},
   "outputs": [
    {
     "data": {
      "text/plain": [
       "(7, 365, 48)"
      ]
     },
     "execution_count": 90,
     "metadata": {},
     "output_type": "execute_result"
    }
   ],
   "source": [
    "Xvals = np.reshape(Xvals,(-1,365,48))\n",
    "Xvals.shape"
   ]
  },
  {
   "cell_type": "code",
   "execution_count": 91,
   "id": "8387e787-e5aa-4dfd-81a5-3698e7b54560",
   "metadata": {},
   "outputs": [
    {
     "name": "stderr",
     "output_type": "stream",
     "text": [
      "/tmp/ipykernel_766105/910645108.py:1: RuntimeWarning: Mean of empty slice\n",
      "  Xvals = np.nanmean(Xvals, axis=0)\n"
     ]
    },
    {
     "data": {
      "text/plain": [
       "(365, 48)"
      ]
     },
     "execution_count": 91,
     "metadata": {},
     "output_type": "execute_result"
    }
   ],
   "source": [
    "Xvals = np.nanmean(Xvals, axis=0)\n",
    "Xvals.shape"
   ]
  },
  {
   "cell_type": "code",
   "execution_count": 93,
   "id": "3470d668-76d4-430d-8b14-2289a1beae9f",
   "metadata": {},
   "outputs": [
    {
     "data": {
      "text/plain": [
       "array([ 1.0461021 ,  0.88543948,  0.92907611,  1.45748337,  0.92393326,\n",
       "        2.39609222,  2.11709572,  2.12384743,  2.19900983,  2.23703553,\n",
       "        1.78276531,  1.74129943,  1.22065101,  1.28264793,  1.43628658,\n",
       "       11.5280965 , -0.69698095, -2.66531679, -3.06562931, -3.28279796,\n",
       "       -3.38978625, -3.60375931, -2.08843879, -3.56749699, -2.02935978,\n",
       "       -1.77241217, -1.85111982, -2.87930607, -2.65997697, -2.29067948,\n",
       "       -1.81319002, -0.58475301, -0.45263461, -0.33111054,  0.09772218,\n",
       "        0.92210855,  1.19140292,  0.86542953,  4.07964854,  2.31150262,\n",
       "        1.28411318,  2.08348637,  1.60001923,  1.56616   ,  1.96778388,\n",
       "        1.35776384,  0.81727797,         nan])"
      ]
     },
     "execution_count": 93,
     "metadata": {},
     "output_type": "execute_result"
    }
   ],
   "source": [
    "Xvals[0] # so there are 365 days, where each day has 48 half an hout"
   ]
  },
  {
   "cell_type": "code",
   "execution_count": 71,
   "id": "66028c19-f319-4a99-8c30-db4393c123e6",
   "metadata": {},
   "outputs": [
    {
     "data": {
      "text/plain": [
       "(2555, 6, 8)"
      ]
     },
     "execution_count": 71,
     "metadata": {},
     "output_type": "execute_result"
    }
   ],
   "source": [
    "Xt = np.reshape(Xvals,(-1,nt,48//nt))\n",
    "Xt.shape"
   ]
  },
  {
   "cell_type": "code",
   "execution_count": 72,
   "id": "9651225a-fa78-4572-b4af-0c15a50018b9",
   "metadata": {},
   "outputs": [
    {
     "name": "stderr",
     "output_type": "stream",
     "text": [
      "/tmp/ipykernel_766105/1890579542.py:1: RuntimeWarning: Mean of empty slice\n",
      "  Xt = np.nanmean(Xt,axis=2)\n"
     ]
    },
    {
     "data": {
      "text/plain": [
       "(2555, 6)"
      ]
     },
     "execution_count": 72,
     "metadata": {},
     "output_type": "execute_result"
    }
   ],
   "source": [
    "Xt = np.nanmean(Xt,axis=2)\n",
    "Xt.shape"
   ]
  },
  {
   "cell_type": "code",
   "execution_count": null,
   "id": "78323ad7-6c39-4841-b8f1-a3157bf95c81",
   "metadata": {},
   "outputs": [],
   "source": []
  }
 ],
 "metadata": {
  "kernelspec": {
   "display_name": "imp_ker",
   "language": "python",
   "name": "imp_ker"
  },
  "language_info": {
   "codemirror_mode": {
    "name": "ipython",
    "version": 3
   },
   "file_extension": ".py",
   "mimetype": "text/x-python",
   "name": "python",
   "nbconvert_exporter": "python",
   "pygments_lexer": "ipython3",
   "version": "3.8.10"
  }
 },
 "nbformat": 4,
 "nbformat_minor": 5
}
