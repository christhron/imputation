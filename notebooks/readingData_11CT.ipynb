{
 "cells": [
  {
   "cell_type": "code",
   "execution_count": 1,
   "id": "48d8063f-2923-4c82-8e8c-81175e74448d",
   "metadata": {},
   "outputs": [],
   "source": [
    "import pandas as pd\n",
    "import os\n",
    "import matplotlib.pyplot as plt\n",
    "import numpy as np\n",
    "import seaborn as sns\n"
   ]
  },
  {
   "cell_type": "code",
   "execution_count": 2,
   "id": "4b272405-3c4b-4c91-84be-98af5b657973",
   "metadata": {},
   "outputs": [
    {
     "name": "stderr",
     "output_type": "stream",
     "text": [
      "C:\\Users\\owner\\anaconda3\\lib\\site-packages\\IPython\\core\\interactiveshell.py:3444: DtypeWarning: Columns (0,2,3,4,5,6,7,8,9) have mixed types.Specify dtype option on import or set low_memory=False.\n",
      "  exec(code_obj, self.user_global_ns, self.user_ns)\n"
     ]
    }
   ],
   "source": [
    "df = pd.read_csv(os.path.abspath('../data/Nal_filtre_FLX_NEE_01012011_31122017.csv'), encoding = \"ISO-8859-1\", sep = ';')\n",
    "# df = pd.read_csv(os.path.abspath('../data/Nal_filtre_FLX_NEE_01012007_31122010.csv'), encoding = \"ISO-8859-1\", sep = ';')"
   ]
  },
  {
   "cell_type": "markdown",
   "id": "c621479f-fafd-4507-b7d8-ec1f9750ab33",
   "metadata": {},
   "source": [
    "---"
   ]
  },
  {
   "cell_type": "code",
   "execution_count": 3,
   "id": "28cbea47-3771-412b-b595-70b9574e44ba",
   "metadata": {},
   "outputs": [
    {
     "data": {
      "text/html": [
       "<div>\n",
       "<style scoped>\n",
       "    .dataframe tbody tr th:only-of-type {\n",
       "        vertical-align: middle;\n",
       "    }\n",
       "\n",
       "    .dataframe tbody tr th {\n",
       "        vertical-align: top;\n",
       "    }\n",
       "\n",
       "    .dataframe thead th {\n",
       "        text-align: right;\n",
       "    }\n",
       "</style>\n",
       "<table border=\"1\" class=\"dataframe\">\n",
       "  <thead>\n",
       "    <tr style=\"text-align: right;\">\n",
       "      <th></th>\n",
       "      <th>hour (numeric)</th>\n",
       "      <th>Date (dd/mm/yyyy hh:mm)</th>\n",
       "      <th>Net Ecosystem Exchange  which is the CO2 (umol/m2/s)</th>\n",
       "      <th>Friction Velocity (m/s)</th>\n",
       "      <th>Incoming shortwave radiation (W/m2)</th>\n",
       "      <th>Air temperature (°C)</th>\n",
       "      <th>Water vapor deficit (kpa)</th>\n",
       "      <th>Soil temperature at 10 cm below the surface (°C)</th>\n",
       "      <th>Soil moisture at 10 cm below the surface (cm3/cm3)</th>\n",
       "      <th>Soil moisture at 30 cm below the surface (cm3/cm3)</th>\n",
       "    </tr>\n",
       "  </thead>\n",
       "  <tbody>\n",
       "    <tr>\n",
       "      <th>0</th>\n",
       "      <td>heure</td>\n",
       "      <td>DateUTC</td>\n",
       "      <td>NEE</td>\n",
       "      <td>Ustar</td>\n",
       "      <td>Swin</td>\n",
       "      <td>T_meteo</td>\n",
       "      <td>VPD</td>\n",
       "      <td>Tsol1_10</td>\n",
       "      <td>Hv1</td>\n",
       "      <td>Hv2</td>\n",
       "    </tr>\n",
       "    <tr>\n",
       "      <th>1</th>\n",
       "      <td>0</td>\n",
       "      <td>01/01/2011 00:00</td>\n",
       "      <td>NaN</td>\n",
       "      <td>0.23159</td>\n",
       "      <td>NaN</td>\n",
       "      <td>NaN</td>\n",
       "      <td>NaN</td>\n",
       "      <td>NaN</td>\n",
       "      <td>0.038</td>\n",
       "      <td>0.056</td>\n",
       "    </tr>\n",
       "    <tr>\n",
       "      <th>2</th>\n",
       "      <td>0.5</td>\n",
       "      <td>01/01/2011 00:30</td>\n",
       "      <td>NaN</td>\n",
       "      <td>0.20874</td>\n",
       "      <td>-3.113</td>\n",
       "      <td>18.64</td>\n",
       "      <td>1.569496568</td>\n",
       "      <td>27.385</td>\n",
       "      <td>0.038</td>\n",
       "      <td>0.056</td>\n",
       "    </tr>\n",
       "    <tr>\n",
       "      <th>3</th>\n",
       "      <td>1</td>\n",
       "      <td>01/01/2011 01:00</td>\n",
       "      <td>NaN</td>\n",
       "      <td>0.17778</td>\n",
       "      <td>-3.181</td>\n",
       "      <td>17.785</td>\n",
       "      <td>1.453069295</td>\n",
       "      <td>27.14</td>\n",
       "      <td>0.038</td>\n",
       "      <td>0.056</td>\n",
       "    </tr>\n",
       "    <tr>\n",
       "      <th>4</th>\n",
       "      <td>1.5</td>\n",
       "      <td>01/01/2011 01:30</td>\n",
       "      <td>NaN</td>\n",
       "      <td>0.1663</td>\n",
       "      <td>-2.4925</td>\n",
       "      <td>17.635</td>\n",
       "      <td>1.424169175</td>\n",
       "      <td>26.9</td>\n",
       "      <td>0.038</td>\n",
       "      <td>0.056</td>\n",
       "    </tr>\n",
       "  </tbody>\n",
       "</table>\n",
       "</div>"
      ],
      "text/plain": [
       "  hour (numeric) Date (dd/mm/yyyy hh:mm)  \\\n",
       "0          heure                 DateUTC   \n",
       "1              0        01/01/2011 00:00   \n",
       "2            0.5        01/01/2011 00:30   \n",
       "3              1        01/01/2011 01:00   \n",
       "4            1.5        01/01/2011 01:30   \n",
       "\n",
       "  Net Ecosystem Exchange  which is the CO2 (umol/m2/s)  \\\n",
       "0                                                NEE     \n",
       "1                                                NaN     \n",
       "2                                                NaN     \n",
       "3                                                NaN     \n",
       "4                                                NaN     \n",
       "\n",
       "  Friction Velocity (m/s) Incoming shortwave radiation (W/m2)  \\\n",
       "0                   Ustar                                Swin   \n",
       "1                 0.23159                                 NaN   \n",
       "2                 0.20874                              -3.113   \n",
       "3                 0.17778                              -3.181   \n",
       "4                  0.1663                             -2.4925   \n",
       "\n",
       "  Air temperature (°C) Water vapor deficit (kpa)  \\\n",
       "0              T_meteo                       VPD   \n",
       "1                  NaN                       NaN   \n",
       "2                18.64               1.569496568   \n",
       "3               17.785               1.453069295   \n",
       "4               17.635               1.424169175   \n",
       "\n",
       "  Soil temperature at 10 cm below the surface (°C)  \\\n",
       "0                                         Tsol1_10   \n",
       "1                                              NaN   \n",
       "2                                           27.385   \n",
       "3                                            27.14   \n",
       "4                                             26.9   \n",
       "\n",
       "  Soil moisture at 10 cm below the surface (cm3/cm3)  \\\n",
       "0                                                Hv1   \n",
       "1                                              0.038   \n",
       "2                                              0.038   \n",
       "3                                              0.038   \n",
       "4                                              0.038   \n",
       "\n",
       "  Soil moisture at 30 cm below the surface (cm3/cm3)  \n",
       "0                                                Hv2  \n",
       "1                                              0.056  \n",
       "2                                              0.056  \n",
       "3                                              0.056  \n",
       "4                                              0.056  "
      ]
     },
     "execution_count": 3,
     "metadata": {},
     "output_type": "execute_result"
    }
   ],
   "source": [
    "df.head(5)"
   ]
  },
  {
   "cell_type": "markdown",
   "id": "3effec67-b150-4f88-b709-378f37f925da",
   "metadata": {},
   "source": [
    "---"
   ]
  },
  {
   "cell_type": "code",
   "execution_count": 4,
   "id": "9ab8b156-d2cb-42a0-866b-90d49e3748db",
   "metadata": {},
   "outputs": [
    {
     "name": "stdout",
     "output_type": "stream",
     "text": [
      "Index(['hour (numeric)', 'Date (dd/mm/yyyy hh:mm)',\n",
      "       'Net Ecosystem Exchange  which is the CO2 (umol/m2/s)',\n",
      "       'Friction Velocity (m/s)', 'Incoming shortwave radiation (W/m2)',\n",
      "       'Air temperature (°C)', 'Water vapor deficit (kpa)',\n",
      "       'Soil temperature at 10 cm below the surface (°C)',\n",
      "       'Soil moisture at 10 cm below the surface (cm3/cm3)',\n",
      "       'Soil moisture at 30 cm below the surface (cm3/cm3)'],\n",
      "      dtype='object')\n"
     ]
    }
   ],
   "source": [
    "print(df.columns)"
   ]
  },
  {
   "cell_type": "markdown",
   "id": "7e69be18-147d-46d2-90d5-b05074e46925",
   "metadata": {},
   "source": [
    "---"
   ]
  },
  {
   "cell_type": "markdown",
   "id": "ac149ceb-55dc-4828-b9a8-d3fbb71fa930",
   "metadata": {},
   "source": [
    "fixing the name to be the 1st row"
   ]
  },
  {
   "cell_type": "code",
   "execution_count": 5,
   "id": "7c68b7d2-99a8-47d0-a4ea-e6579640dd19",
   "metadata": {},
   "outputs": [],
   "source": [
    "df.columns = df.iloc[0] # fix the col names to be the 1st col\n",
    "df = df.iloc[1:] # fix the col names to be the 1st col"
   ]
  },
  {
   "cell_type": "code",
   "execution_count": 6,
   "id": "c22f3536-52cb-4117-8975-2901427c909f",
   "metadata": {},
   "outputs": [
    {
     "data": {
      "text/html": [
       "<div>\n",
       "<style scoped>\n",
       "    .dataframe tbody tr th:only-of-type {\n",
       "        vertical-align: middle;\n",
       "    }\n",
       "\n",
       "    .dataframe tbody tr th {\n",
       "        vertical-align: top;\n",
       "    }\n",
       "\n",
       "    .dataframe thead th {\n",
       "        text-align: right;\n",
       "    }\n",
       "</style>\n",
       "<table border=\"1\" class=\"dataframe\">\n",
       "  <thead>\n",
       "    <tr style=\"text-align: right;\">\n",
       "      <th></th>\n",
       "      <th>heure</th>\n",
       "      <th>DateUTC</th>\n",
       "      <th>NEE</th>\n",
       "      <th>Ustar</th>\n",
       "      <th>Swin</th>\n",
       "      <th>T_meteo</th>\n",
       "      <th>VPD</th>\n",
       "      <th>Tsol1_10</th>\n",
       "      <th>Hv1</th>\n",
       "      <th>Hv2</th>\n",
       "    </tr>\n",
       "  </thead>\n",
       "  <tbody>\n",
       "    <tr>\n",
       "      <th>1</th>\n",
       "      <td>0</td>\n",
       "      <td>01/01/2011 00:00</td>\n",
       "      <td>NaN</td>\n",
       "      <td>0.23159</td>\n",
       "      <td>NaN</td>\n",
       "      <td>NaN</td>\n",
       "      <td>NaN</td>\n",
       "      <td>NaN</td>\n",
       "      <td>0.038</td>\n",
       "      <td>0.056</td>\n",
       "    </tr>\n",
       "    <tr>\n",
       "      <th>2</th>\n",
       "      <td>0.5</td>\n",
       "      <td>01/01/2011 00:30</td>\n",
       "      <td>NaN</td>\n",
       "      <td>0.20874</td>\n",
       "      <td>-3.113</td>\n",
       "      <td>18.64</td>\n",
       "      <td>1.569496568</td>\n",
       "      <td>27.385</td>\n",
       "      <td>0.038</td>\n",
       "      <td>0.056</td>\n",
       "    </tr>\n",
       "  </tbody>\n",
       "</table>\n",
       "</div>"
      ],
      "text/plain": [
       "0 heure           DateUTC  NEE    Ustar    Swin T_meteo          VPD Tsol1_10  \\\n",
       "1     0  01/01/2011 00:00  NaN  0.23159     NaN     NaN          NaN      NaN   \n",
       "2   0.5  01/01/2011 00:30  NaN  0.20874  -3.113   18.64  1.569496568   27.385   \n",
       "\n",
       "0    Hv1    Hv2  \n",
       "1  0.038  0.056  \n",
       "2  0.038  0.056  "
      ]
     },
     "execution_count": 6,
     "metadata": {},
     "output_type": "execute_result"
    }
   ],
   "source": [
    "df.head(2)"
   ]
  },
  {
   "cell_type": "markdown",
   "id": "0f17c085-ab7e-4923-8624-7b798daf9569",
   "metadata": {},
   "source": [
    "---"
   ]
  },
  {
   "cell_type": "code",
   "execution_count": 7,
   "id": "04d6fece-2eb9-466f-90e2-1a32da6abf35",
   "metadata": {},
   "outputs": [
    {
     "data": {
      "text/plain": [
       "(122736, 10)"
      ]
     },
     "execution_count": 7,
     "metadata": {},
     "output_type": "execute_result"
    }
   ],
   "source": [
    "df.shape\n",
    "# why all of them of typoe object (it should be float64)"
   ]
  },
  {
   "cell_type": "markdown",
   "id": "0aec6e35-35af-4864-a79d-c88df6938f1a",
   "metadata": {},
   "source": [
    "---"
   ]
  },
  {
   "cell_type": "code",
   "execution_count": 8,
   "id": "681c8e63-f458-43ff-85a1-e84cb635e554",
   "metadata": {},
   "outputs": [
    {
     "data": {
      "text/html": [
       "<div>\n",
       "<style scoped>\n",
       "    .dataframe tbody tr th:only-of-type {\n",
       "        vertical-align: middle;\n",
       "    }\n",
       "\n",
       "    .dataframe tbody tr th {\n",
       "        vertical-align: top;\n",
       "    }\n",
       "\n",
       "    .dataframe thead th {\n",
       "        text-align: right;\n",
       "    }\n",
       "</style>\n",
       "<table border=\"1\" class=\"dataframe\">\n",
       "  <thead>\n",
       "    <tr style=\"text-align: right;\">\n",
       "      <th></th>\n",
       "      <th>heure</th>\n",
       "      <th>DateUTC</th>\n",
       "      <th>NEE</th>\n",
       "      <th>Ustar</th>\n",
       "      <th>Swin</th>\n",
       "      <th>T_meteo</th>\n",
       "      <th>VPD</th>\n",
       "      <th>Tsol1_10</th>\n",
       "      <th>Hv1</th>\n",
       "      <th>Hv2</th>\n",
       "    </tr>\n",
       "  </thead>\n",
       "  <tbody>\n",
       "    <tr>\n",
       "      <th>count</th>\n",
       "      <td>122736</td>\n",
       "      <td>122736</td>\n",
       "      <td>56232</td>\n",
       "      <td>67447.00000</td>\n",
       "      <td>108811.0</td>\n",
       "      <td>109725.0</td>\n",
       "      <td>107369</td>\n",
       "      <td>88142.0</td>\n",
       "      <td>114042</td>\n",
       "      <td>116410</td>\n",
       "    </tr>\n",
       "    <tr>\n",
       "      <th>unique</th>\n",
       "      <td>96</td>\n",
       "      <td>122736</td>\n",
       "      <td>56232</td>\n",
       "      <td>47791.00000</td>\n",
       "      <td>48224.0</td>\n",
       "      <td>30171.0</td>\n",
       "      <td>91187</td>\n",
       "      <td>6202.0</td>\n",
       "      <td>354</td>\n",
       "      <td>385</td>\n",
       "    </tr>\n",
       "    <tr>\n",
       "      <th>top</th>\n",
       "      <td>0</td>\n",
       "      <td>01/01/2011 00:00</td>\n",
       "      <td>-0.011749636</td>\n",
       "      <td>0.06387</td>\n",
       "      <td>-1.0</td>\n",
       "      <td>0.0</td>\n",
       "      <td>4.388121134</td>\n",
       "      <td>28.0</td>\n",
       "      <td>0.035</td>\n",
       "      <td>0.053</td>\n",
       "    </tr>\n",
       "    <tr>\n",
       "      <th>freq</th>\n",
       "      <td>1366</td>\n",
       "      <td>1</td>\n",
       "      <td>1</td>\n",
       "      <td>7.00000</td>\n",
       "      <td>640.0</td>\n",
       "      <td>2356.0</td>\n",
       "      <td>201</td>\n",
       "      <td>349.0</td>\n",
       "      <td>3311</td>\n",
       "      <td>3142</td>\n",
       "    </tr>\n",
       "  </tbody>\n",
       "</table>\n",
       "</div>"
      ],
      "text/plain": [
       "0        heure           DateUTC           NEE        Ustar      Swin  \\\n",
       "count   122736            122736         56232  67447.00000  108811.0   \n",
       "unique      96            122736         56232  47791.00000   48224.0   \n",
       "top          0  01/01/2011 00:00  -0.011749636      0.06387      -1.0   \n",
       "freq      1366                 1             1      7.00000     640.0   \n",
       "\n",
       "0        T_meteo          VPD  Tsol1_10     Hv1     Hv2  \n",
       "count   109725.0       107369   88142.0  114042  116410  \n",
       "unique   30171.0        91187    6202.0     354     385  \n",
       "top          0.0  4.388121134      28.0   0.035   0.053  \n",
       "freq      2356.0          201     349.0    3311    3142  "
      ]
     },
     "execution_count": 8,
     "metadata": {},
     "output_type": "execute_result"
    }
   ],
   "source": [
    "df.describe()"
   ]
  },
  {
   "cell_type": "markdown",
   "id": "a28b042b-4a66-4f31-bc18-dfcdc53fe488",
   "metadata": {},
   "source": [
    "---"
   ]
  },
  {
   "cell_type": "markdown",
   "id": "d9d3007d-7e66-41f3-83dc-7e5d06f0822c",
   "metadata": {},
   "source": [
    "Changing the type from object to float."
   ]
  },
  {
   "cell_type": "markdown",
   "id": "49236658-cd26-41ed-bcaf-bc34ab873ccc",
   "metadata": {},
   "source": [
    "we need to change the following [2:] to float64"
   ]
  },
  {
   "cell_type": "code",
   "execution_count": 9,
   "id": "072a8be9-87f0-47ef-b3c3-35f83d785036",
   "metadata": {},
   "outputs": [
    {
     "data": {
      "text/html": [
       "<div>\n",
       "<style scoped>\n",
       "    .dataframe tbody tr th:only-of-type {\n",
       "        vertical-align: middle;\n",
       "    }\n",
       "\n",
       "    .dataframe tbody tr th {\n",
       "        vertical-align: top;\n",
       "    }\n",
       "\n",
       "    .dataframe thead th {\n",
       "        text-align: right;\n",
       "    }\n",
       "</style>\n",
       "<table border=\"1\" class=\"dataframe\">\n",
       "  <thead>\n",
       "    <tr style=\"text-align: right;\">\n",
       "      <th></th>\n",
       "      <th>heure</th>\n",
       "      <th>DateUTC</th>\n",
       "      <th>NEE</th>\n",
       "      <th>Ustar</th>\n",
       "      <th>Swin</th>\n",
       "      <th>T_meteo</th>\n",
       "      <th>VPD</th>\n",
       "      <th>Tsol1_10</th>\n",
       "      <th>Hv1</th>\n",
       "      <th>Hv2</th>\n",
       "    </tr>\n",
       "  </thead>\n",
       "  <tbody>\n",
       "    <tr>\n",
       "      <th>1</th>\n",
       "      <td>0</td>\n",
       "      <td>01/01/2011 00:00</td>\n",
       "      <td>NaN</td>\n",
       "      <td>0.23159</td>\n",
       "      <td>NaN</td>\n",
       "      <td>NaN</td>\n",
       "      <td>NaN</td>\n",
       "      <td>NaN</td>\n",
       "      <td>0.038</td>\n",
       "      <td>0.056</td>\n",
       "    </tr>\n",
       "    <tr>\n",
       "      <th>2</th>\n",
       "      <td>0.5</td>\n",
       "      <td>01/01/2011 00:30</td>\n",
       "      <td>NaN</td>\n",
       "      <td>0.20874</td>\n",
       "      <td>-3.113</td>\n",
       "      <td>18.64</td>\n",
       "      <td>1.569497</td>\n",
       "      <td>27.385</td>\n",
       "      <td>0.038</td>\n",
       "      <td>0.056</td>\n",
       "    </tr>\n",
       "    <tr>\n",
       "      <th>3</th>\n",
       "      <td>1</td>\n",
       "      <td>01/01/2011 01:00</td>\n",
       "      <td>NaN</td>\n",
       "      <td>0.17778</td>\n",
       "      <td>-3.181</td>\n",
       "      <td>17.785</td>\n",
       "      <td>1.453069</td>\n",
       "      <td>27.14</td>\n",
       "      <td>0.038</td>\n",
       "      <td>0.056</td>\n",
       "    </tr>\n",
       "    <tr>\n",
       "      <th>4</th>\n",
       "      <td>1.5</td>\n",
       "      <td>01/01/2011 01:30</td>\n",
       "      <td>NaN</td>\n",
       "      <td>0.1663</td>\n",
       "      <td>-2.4925</td>\n",
       "      <td>17.635</td>\n",
       "      <td>1.424169</td>\n",
       "      <td>26.9</td>\n",
       "      <td>0.038</td>\n",
       "      <td>0.056</td>\n",
       "    </tr>\n",
       "    <tr>\n",
       "      <th>5</th>\n",
       "      <td>2</td>\n",
       "      <td>01/01/2011 02:00</td>\n",
       "      <td>NaN</td>\n",
       "      <td>0.20026</td>\n",
       "      <td>-2.4065</td>\n",
       "      <td>17.65</td>\n",
       "      <td>1.420469</td>\n",
       "      <td>26.645</td>\n",
       "      <td>0.038</td>\n",
       "      <td>0.056</td>\n",
       "    </tr>\n",
       "    <tr>\n",
       "      <th>...</th>\n",
       "      <td>...</td>\n",
       "      <td>...</td>\n",
       "      <td>...</td>\n",
       "      <td>...</td>\n",
       "      <td>...</td>\n",
       "      <td>...</td>\n",
       "      <td>...</td>\n",
       "      <td>...</td>\n",
       "      <td>...</td>\n",
       "      <td>...</td>\n",
       "    </tr>\n",
       "    <tr>\n",
       "      <th>122732</th>\n",
       "      <td>21.5</td>\n",
       "      <td>31/12/2017 21:30</td>\n",
       "      <td>NaN</td>\n",
       "      <td>NaN</td>\n",
       "      <td>-3.6</td>\n",
       "      <td>22.6</td>\n",
       "      <td>1.968886</td>\n",
       "      <td>NaN</td>\n",
       "      <td>0.036</td>\n",
       "      <td>0.058</td>\n",
       "    </tr>\n",
       "    <tr>\n",
       "      <th>122733</th>\n",
       "      <td>22.0</td>\n",
       "      <td>31/12/2017 22:00</td>\n",
       "      <td>NaN</td>\n",
       "      <td>NaN</td>\n",
       "      <td>-3.4</td>\n",
       "      <td>22.1</td>\n",
       "      <td>1.891324</td>\n",
       "      <td>NaN</td>\n",
       "      <td>0.036</td>\n",
       "      <td>0.058</td>\n",
       "    </tr>\n",
       "    <tr>\n",
       "      <th>122734</th>\n",
       "      <td>22.5</td>\n",
       "      <td>31/12/2017 22:30</td>\n",
       "      <td>NaN</td>\n",
       "      <td>NaN</td>\n",
       "      <td>-3.5</td>\n",
       "      <td>21.5</td>\n",
       "      <td>1.807916</td>\n",
       "      <td>NaN</td>\n",
       "      <td>0.036</td>\n",
       "      <td>0.058</td>\n",
       "    </tr>\n",
       "    <tr>\n",
       "      <th>122735</th>\n",
       "      <td>23.0</td>\n",
       "      <td>31/12/2017 23:00</td>\n",
       "      <td>NaN</td>\n",
       "      <td>NaN</td>\n",
       "      <td>-3.3</td>\n",
       "      <td>21.2</td>\n",
       "      <td>1.764923</td>\n",
       "      <td>NaN</td>\n",
       "      <td>0.036</td>\n",
       "      <td>0.058</td>\n",
       "    </tr>\n",
       "    <tr>\n",
       "      <th>122736</th>\n",
       "      <td>23.5</td>\n",
       "      <td>31/12/2017 23:30</td>\n",
       "      <td>NaN</td>\n",
       "      <td>NaN</td>\n",
       "      <td>-3.6</td>\n",
       "      <td>20.7</td>\n",
       "      <td>1.696873</td>\n",
       "      <td>NaN</td>\n",
       "      <td>0.036</td>\n",
       "      <td>0.058</td>\n",
       "    </tr>\n",
       "  </tbody>\n",
       "</table>\n",
       "<p>122736 rows × 10 columns</p>\n",
       "</div>"
      ],
      "text/plain": [
       "0      heure           DateUTC  NEE    Ustar    Swin T_meteo       VPD  \\\n",
       "1          0  01/01/2011 00:00  NaN  0.23159     NaN     NaN       NaN   \n",
       "2        0.5  01/01/2011 00:30  NaN  0.20874  -3.113   18.64  1.569497   \n",
       "3          1  01/01/2011 01:00  NaN  0.17778  -3.181  17.785  1.453069   \n",
       "4        1.5  01/01/2011 01:30  NaN   0.1663 -2.4925  17.635  1.424169   \n",
       "5          2  01/01/2011 02:00  NaN  0.20026 -2.4065   17.65  1.420469   \n",
       "...      ...               ...  ...      ...     ...     ...       ...   \n",
       "122732  21.5  31/12/2017 21:30  NaN      NaN    -3.6    22.6  1.968886   \n",
       "122733  22.0  31/12/2017 22:00  NaN      NaN    -3.4    22.1  1.891324   \n",
       "122734  22.5  31/12/2017 22:30  NaN      NaN    -3.5    21.5  1.807916   \n",
       "122735  23.0  31/12/2017 23:00  NaN      NaN    -3.3    21.2  1.764923   \n",
       "122736  23.5  31/12/2017 23:30  NaN      NaN    -3.6    20.7  1.696873   \n",
       "\n",
       "0      Tsol1_10    Hv1    Hv2  \n",
       "1           NaN  0.038  0.056  \n",
       "2        27.385  0.038  0.056  \n",
       "3         27.14  0.038  0.056  \n",
       "4          26.9  0.038  0.056  \n",
       "5        26.645  0.038  0.056  \n",
       "...         ...    ...    ...  \n",
       "122732      NaN  0.036  0.058  \n",
       "122733      NaN  0.036  0.058  \n",
       "122734      NaN  0.036  0.058  \n",
       "122735      NaN  0.036  0.058  \n",
       "122736      NaN  0.036  0.058  \n",
       "\n",
       "[122736 rows x 10 columns]"
      ]
     },
     "execution_count": 9,
     "metadata": {},
     "output_type": "execute_result"
    }
   ],
   "source": [
    "df.iloc[:, 2:] = df.iloc[:, 2:].astype(float)\n",
    "df"
   ]
  },
  {
   "cell_type": "markdown",
   "id": "d89e84e0-2342-4688-a9ab-4ec90ba8263e",
   "metadata": {},
   "source": [
    "---"
   ]
  },
  {
   "cell_type": "markdown",
   "id": "854e2b67-c4fd-4fe4-85dc-5a63acd89e79",
   "metadata": {},
   "source": [
    "<b><i> Standard Scaler </i></b> "
   ]
  },
  {
   "cell_type": "code",
   "execution_count": 11,
   "id": "1293b1cd-08eb-40c7-8ba9-d6a79b1cc03c",
   "metadata": {},
   "outputs": [
    {
     "data": {
      "text/html": [
       "<div>\n",
       "<style scoped>\n",
       "    .dataframe tbody tr th:only-of-type {\n",
       "        vertical-align: middle;\n",
       "    }\n",
       "\n",
       "    .dataframe tbody tr th {\n",
       "        vertical-align: top;\n",
       "    }\n",
       "\n",
       "    .dataframe thead th {\n",
       "        text-align: right;\n",
       "    }\n",
       "</style>\n",
       "<table border=\"1\" class=\"dataframe\">\n",
       "  <thead>\n",
       "    <tr style=\"text-align: right;\">\n",
       "      <th></th>\n",
       "      <th>heure</th>\n",
       "      <th>DateUTC</th>\n",
       "      <th>NEE</th>\n",
       "      <th>Ustar</th>\n",
       "      <th>Swin</th>\n",
       "      <th>T_meteo</th>\n",
       "      <th>VPD</th>\n",
       "      <th>Tsol1_10</th>\n",
       "      <th>Hv1</th>\n",
       "      <th>Hv2</th>\n",
       "    </tr>\n",
       "  </thead>\n",
       "  <tbody>\n",
       "    <tr>\n",
       "      <th>1</th>\n",
       "      <td>0</td>\n",
       "      <td>01/01/2011 00:00</td>\n",
       "      <td>NaN</td>\n",
       "      <td>0.035532</td>\n",
       "      <td>NaN</td>\n",
       "      <td>NaN</td>\n",
       "      <td>NaN</td>\n",
       "      <td>NaN</td>\n",
       "      <td>-0.897683</td>\n",
       "      <td>-0.93539</td>\n",
       "    </tr>\n",
       "    <tr>\n",
       "      <th>2</th>\n",
       "      <td>0.5</td>\n",
       "      <td>01/01/2011 00:30</td>\n",
       "      <td>NaN</td>\n",
       "      <td>-0.121492</td>\n",
       "      <td>-0.736318</td>\n",
       "      <td>-1.087896</td>\n",
       "      <td>0.02115</td>\n",
       "      <td>-0.650719</td>\n",
       "      <td>-0.897683</td>\n",
       "      <td>-0.93539</td>\n",
       "    </tr>\n",
       "    <tr>\n",
       "      <th>3</th>\n",
       "      <td>1</td>\n",
       "      <td>01/01/2011 01:00</td>\n",
       "      <td>NaN</td>\n",
       "      <td>-0.334247</td>\n",
       "      <td>-0.736544</td>\n",
       "      <td>-1.231436</td>\n",
       "      <td>-0.067571</td>\n",
       "      <td>-0.71873</td>\n",
       "      <td>-0.897683</td>\n",
       "      <td>-0.93539</td>\n",
       "    </tr>\n",
       "    <tr>\n",
       "      <th>4</th>\n",
       "      <td>1.5</td>\n",
       "      <td>01/01/2011 01:30</td>\n",
       "      <td>NaN</td>\n",
       "      <td>-0.413137</td>\n",
       "      <td>-0.734256</td>\n",
       "      <td>-1.256619</td>\n",
       "      <td>-0.089594</td>\n",
       "      <td>-0.785353</td>\n",
       "      <td>-0.897683</td>\n",
       "      <td>-0.93539</td>\n",
       "    </tr>\n",
       "    <tr>\n",
       "      <th>5</th>\n",
       "      <td>2</td>\n",
       "      <td>01/01/2011 02:00</td>\n",
       "      <td>NaN</td>\n",
       "      <td>-0.179766</td>\n",
       "      <td>-0.73397</td>\n",
       "      <td>-1.254101</td>\n",
       "      <td>-0.092414</td>\n",
       "      <td>-0.856141</td>\n",
       "      <td>-0.897683</td>\n",
       "      <td>-0.93539</td>\n",
       "    </tr>\n",
       "    <tr>\n",
       "      <th>...</th>\n",
       "      <td>...</td>\n",
       "      <td>...</td>\n",
       "      <td>...</td>\n",
       "      <td>...</td>\n",
       "      <td>...</td>\n",
       "      <td>...</td>\n",
       "      <td>...</td>\n",
       "      <td>...</td>\n",
       "      <td>...</td>\n",
       "      <td>...</td>\n",
       "    </tr>\n",
       "    <tr>\n",
       "      <th>122732</th>\n",
       "      <td>21.5</td>\n",
       "      <td>31/12/2017 21:30</td>\n",
       "      <td>NaN</td>\n",
       "      <td>NaN</td>\n",
       "      <td>-0.737936</td>\n",
       "      <td>-0.423075</td>\n",
       "      <td>0.325498</td>\n",
       "      <td>NaN</td>\n",
       "      <td>-0.950778</td>\n",
       "      <td>-0.886996</td>\n",
       "    </tr>\n",
       "    <tr>\n",
       "      <th>122733</th>\n",
       "      <td>22.0</td>\n",
       "      <td>31/12/2017 22:00</td>\n",
       "      <td>NaN</td>\n",
       "      <td>NaN</td>\n",
       "      <td>-0.737271</td>\n",
       "      <td>-0.507017</td>\n",
       "      <td>0.266393</td>\n",
       "      <td>NaN</td>\n",
       "      <td>-0.950778</td>\n",
       "      <td>-0.886996</td>\n",
       "    </tr>\n",
       "    <tr>\n",
       "      <th>122734</th>\n",
       "      <td>22.5</td>\n",
       "      <td>31/12/2017 22:30</td>\n",
       "      <td>NaN</td>\n",
       "      <td>NaN</td>\n",
       "      <td>-0.737604</td>\n",
       "      <td>-0.607748</td>\n",
       "      <td>0.202833</td>\n",
       "      <td>NaN</td>\n",
       "      <td>-0.950778</td>\n",
       "      <td>-0.886996</td>\n",
       "    </tr>\n",
       "    <tr>\n",
       "      <th>122735</th>\n",
       "      <td>23.0</td>\n",
       "      <td>31/12/2017 23:00</td>\n",
       "      <td>NaN</td>\n",
       "      <td>NaN</td>\n",
       "      <td>-0.736939</td>\n",
       "      <td>-0.658113</td>\n",
       "      <td>0.170072</td>\n",
       "      <td>NaN</td>\n",
       "      <td>-0.950778</td>\n",
       "      <td>-0.886996</td>\n",
       "    </tr>\n",
       "    <tr>\n",
       "      <th>122736</th>\n",
       "      <td>23.5</td>\n",
       "      <td>31/12/2017 23:30</td>\n",
       "      <td>NaN</td>\n",
       "      <td>NaN</td>\n",
       "      <td>-0.737936</td>\n",
       "      <td>-0.742055</td>\n",
       "      <td>0.118215</td>\n",
       "      <td>NaN</td>\n",
       "      <td>-0.950778</td>\n",
       "      <td>-0.886996</td>\n",
       "    </tr>\n",
       "  </tbody>\n",
       "</table>\n",
       "<p>122736 rows × 10 columns</p>\n",
       "</div>"
      ],
      "text/plain": [
       "0      heure           DateUTC  NEE     Ustar      Swin   T_meteo       VPD  \\\n",
       "1          0  01/01/2011 00:00  NaN  0.035532       NaN       NaN       NaN   \n",
       "2        0.5  01/01/2011 00:30  NaN -0.121492 -0.736318 -1.087896   0.02115   \n",
       "3          1  01/01/2011 01:00  NaN -0.334247 -0.736544 -1.231436 -0.067571   \n",
       "4        1.5  01/01/2011 01:30  NaN -0.413137 -0.734256 -1.256619 -0.089594   \n",
       "5          2  01/01/2011 02:00  NaN -0.179766  -0.73397 -1.254101 -0.092414   \n",
       "...      ...               ...  ...       ...       ...       ...       ...   \n",
       "122732  21.5  31/12/2017 21:30  NaN       NaN -0.737936 -0.423075  0.325498   \n",
       "122733  22.0  31/12/2017 22:00  NaN       NaN -0.737271 -0.507017  0.266393   \n",
       "122734  22.5  31/12/2017 22:30  NaN       NaN -0.737604 -0.607748  0.202833   \n",
       "122735  23.0  31/12/2017 23:00  NaN       NaN -0.736939 -0.658113  0.170072   \n",
       "122736  23.5  31/12/2017 23:30  NaN       NaN -0.737936 -0.742055  0.118215   \n",
       "\n",
       "0       Tsol1_10       Hv1       Hv2  \n",
       "1            NaN -0.897683  -0.93539  \n",
       "2      -0.650719 -0.897683  -0.93539  \n",
       "3       -0.71873 -0.897683  -0.93539  \n",
       "4      -0.785353 -0.897683  -0.93539  \n",
       "5      -0.856141 -0.897683  -0.93539  \n",
       "...          ...       ...       ...  \n",
       "122732       NaN -0.950778 -0.886996  \n",
       "122733       NaN -0.950778 -0.886996  \n",
       "122734       NaN -0.950778 -0.886996  \n",
       "122735       NaN -0.950778 -0.886996  \n",
       "122736       NaN -0.950778 -0.886996  \n",
       "\n",
       "[122736 rows x 10 columns]"
      ]
     },
     "execution_count": 11,
     "metadata": {},
     "output_type": "execute_result"
    }
   ],
   "source": [
    "from sklearn.preprocessing import StandardScaler\n",
    "# from sklearn.preprocessing import MinMaxScaler\n",
    "\n",
    "scaler = StandardScaler()\n",
    "scaled_arr = scaler.fit_transform(df.iloc[:, 2:])\n",
    "df.iloc[:, 2:]= pd.DataFrame(scaled_arr, columns = df.columns[2:])\n",
    "# df_scaled[]\n",
    "df"
   ]
  },
  {
   "cell_type": "markdown",
   "id": "cd67a05a-8f40-4009-b031-633579a9dff5",
   "metadata": {},
   "source": [
    "---"
   ]
  },
  {
   "cell_type": "markdown",
   "id": "a3437a67",
   "metadata": {},
   "source": [
    "### Additional data processing operations:\n",
    "\n",
    "1. Convert to numpy for ease of data manipulation\n",
    "2. Convert outliers to nan's\n",
    "3. Identify locations where nan's occur\n",
    "4. Create copy of data with nan's replaced with 0."
   ]
  },
  {
   "cell_type": "code",
   "execution_count": 18,
   "id": "ca113db1",
   "metadata": {},
   "outputs": [],
   "source": [
    "X = df.iloc[:, 2:].to_numpy()\n",
    "X = X.astype(float)\n",
    "\n",
    "# Matrix shape\n",
    "(nx, nc) = np.shape(X)\n",
    "\n",
    "# Change outliers to nans\n",
    "Xout = np.abs(X)>4\n",
    "X[Xout] = float(\"nan\")\n",
    "X[Xout] = float(\"nan\")\n",
    "\n",
    "# Logical matrix that gives locations of nan's\n",
    "Xnan = np.isnan(X)\n",
    "# Replace nan's with 0\n",
    "X0 = np.copy(X)\n",
    "X0[Xnan] = 0\n",
    "# Integer matrix that indicates data locations\n",
    "Xan = 1 - Xnan.astype(int)"
   ]
  },
  {
   "cell_type": "markdown",
   "id": "b36fc290",
   "metadata": {},
   "source": [
    "### Plots of standardized data for each variable"
   ]
  },
  {
   "cell_type": "code",
   "execution_count": null,
   "id": "89c8f30e",
   "metadata": {},
   "outputs": [],
   "source": [
    "# Set range of data indices\n",
    "dataIx = np.arange(nx)\n",
    "\n",
    "for jj,col in enumerate(df.columns[2:]):\n",
    "    plt.plot(dataIx,X[dataIx,jj])\n",
    "    nanLoc = np.array(np.where(Xnan[dataIx,jj]))[0,:]\n",
    "    print(\"Number of missing data points in \\\n",
    "          \"+ col +\"; \" + str(len(nanLoc)))\n",
    "    plt.plot(nanLoc,0*nanLoc,'r.')   \n",
    "    plt.title('Standardized data: '+ col)\n",
    "    plt.show()"
   ]
  },
  {
   "cell_type": "markdown",
   "id": "a8a062ea",
   "metadata": {},
   "source": [
    "### Create bivariate scatter diagrams"
   ]
  },
  {
   "cell_type": "code",
   "execution_count": 25,
   "id": "a1845599",
   "metadata": {},
   "outputs": [
    {
     "data": {
      "image/png": "[encoded data removed]",
      "text/plain": [
       "<Figure size 432x288 with 49 Axes>"
      ]
     },
     "metadata": {
      "needs_background": "light"
     },
     "output_type": "display_data"
    }
   ],
   "source": [
    "fig, axs = plt.subplots(nc-1, nc-1)\n",
    "for jj in range(nc):\n",
    "    for kk in range(jj+1,nc):\n",
    "        axs[jj, kk-1].scatter(X[:,jj], X[:,kk],c='k',s=0.25)\n",
    "        axs[jj, kk-1].get_xaxis().set_visible(False)\n",
    "        axs[jj, kk-1].get_yaxis().set_visible(False)\n",
    "#        titleString = str(jj)+' vs '+str(kk)\n",
    "#        axs[jj, kk].set_title('Axis [0, 0]')\n",
    "plt.show()"
   ]
  },
  {
   "cell_type": "markdown",
   "id": "13f24677",
   "metadata": {},
   "source": [
    "### Compute correlations:\n",
    "*  Compute vector inner product between columns by taking X^T @X (with nan's replaced by 0's)\n",
    "* Find number of nontrivial products by taking Xan^T @ Xan\n",
    "*  Pointwise divide to find correlations"
   ]
  },
  {
   "cell_type": "code",
   "execution_count": 27,
   "id": "c8dcb3ab",
   "metadata": {},
   "outputs": [
    {
     "name": "stdout",
     "output_type": "stream",
     "text": [
      "[[ 0.92332221 -0.39139138 -0.6489849  -0.20059672 -0.09064925  0.15067523\n",
      "  -0.18602636 -0.19606976]\n",
      " [-0.39139138  0.92849699  0.68128565  0.3686059   0.37402883  0.04392832\n",
      "  -0.06922883 -0.05932406]\n",
      " [-0.6489849   0.68128565  1.          0.48352959  0.46433432  0.02817927\n",
      "  -0.04062355 -0.04691754]\n",
      " [-0.20059672  0.3686059   0.48352959  0.63168185  0.61875566  0.50546622\n",
      "  -0.20381216 -0.21695403]\n",
      " [-0.09064925  0.37402883  0.46433432  0.61875566  1.          0.53324686\n",
      "  -0.58859076 -0.59972867]\n",
      " [ 0.15067523  0.04392832  0.02817927  0.50546622  0.53324686  1.\n",
      "  -0.41446839 -0.42716519]\n",
      " [-0.18602636 -0.06922883 -0.04062355 -0.20381216 -0.58859076 -0.41446839\n",
      "   0.99869956  0.94330816]\n",
      " [-0.19606976 -0.05932406 -0.04691754 -0.21695403 -0.59972867 -0.42716519\n",
      "   0.94330816  0.99872057]]\n"
     ]
    }
   ],
   "source": [
    "Xcov = (X0.transpose()@ X0) / (Xan.transpose() @ Xan)\n",
    "print(Xcov)\n",
    "# Find eigenvectors and eigenvalues\n",
    "from numpy import linalg as LA\n",
    "lam,eVec = LA.eigh(Xcov)"
   ]
  },
  {
   "cell_type": "markdown",
   "id": "1c7da787",
   "metadata": {},
   "source": [
    "### Plots that show seasonality"
   ]
  },
  {
   "cell_type": "code",
   "execution_count": 29,
   "id": "b0ea8243",
   "metadata": {},
   "outputs": [
    {
     "name": "stderr",
     "output_type": "stream",
     "text": [
      "C:\\Users\\owner\\AppData\\Local\\Temp/ipykernel_15408/2005102552.py:8: RuntimeWarning: Mean of empty slice\n",
      "  Xvals = np.nanmean(Xvals, axis=0)\n"
     ]
    },
    {
     "data": {
      "image/png": "[encoded data removed]",
      "text/plain": [
       "<Figure size 432x288 with 1 Axes>"
      ]
     },
     "metadata": {
      "needs_background": "light"
     },
     "output_type": "display_data"
    },
    {
     "data": {
      "image/png": "[encoded data removed]",
      "text/plain": [
       "<Figure size 432x288 with 1 Axes>"
      ]
     },
     "metadata": {
      "needs_background": "light"
     },
     "output_type": "display_data"
    }
   ],
   "source": [
    "ns = 5 # Number of seasons\n",
    "nt = 6 # Number of times of day\n",
    "kSize = 5 # For smoothing\n",
    "kernel = np.ones(kSize)/kSize\n",
    "Xvals = X[:,0]\n",
    "Xvals = Xvals[:365*(len(Xvals)//365)]\n",
    "Xvals = np.reshape(Xvals,(-1,365,48))\n",
    "Xvals = np.nanmean(Xvals, axis=0)\n",
    "\n",
    "Xt = np.reshape(Xvals,(-1,nt,48//nt))\n",
    "Xt = np.nanmean(Xt,axis=2)\n",
    "for jt in range(nt):\n",
    "    plt.plot(np.arange(365),np.convolve(Xt[:,jt],kernel,mode = 'same'),'-')\n",
    "plt.title('Variation over the year by time of day')\n",
    "plt.xlabel('Day of the year')\n",
    "plt.ylabel('NEE value')\n",
    "plt.show()\n",
    "\n",
    "Xs = np.reshape(Xvals,(ns,-1,48))\n",
    "Xs = np.nanmean(Xs,axis=1)\n",
    "for js in range(ns):\n",
    "    plt.plot(np.arange(48),Xs[js,:],'-')\n",
    "plt.title('Daily variation by season')\n",
    "plt.xlabel('Time of day')\n",
    "plt.ylabel('NEE value')\n",
    "plt.show()"
   ]
  },
  {
   "cell_type": "markdown",
   "id": "7e605ab8",
   "metadata": {},
   "source": [
    "### Find distribution of data gaps and consecutive data runs.\n"
   ]
  },
  {
   "cell_type": "code",
   "execution_count": 30,
   "id": "cbfd2faa",
   "metadata": {},
   "outputs": [
    {
     "data": {
      "image/png": "[encoded data removed]",
      "text/plain": [
       "<Figure size 432x288 with 1 Axes>"
      ]
     },
     "metadata": {
      "needs_background": "light"
     },
     "output_type": "display_data"
    },
    {
     "data": {
      "image/png": "[encoded data removed]",
      "text/plain": [
       "<Figure size 432x288 with 1 Axes>"
      ]
     },
     "metadata": {
      "needs_background": "light"
     },
     "output_type": "display_data"
    }
   ],
   "source": [
    "wXnan = np.where(Xnan[:,0])[0]\n",
    "wXnanDiff = wXnan[1:]-wXnan[:-1]-1\n",
    "wXnanDiff = wXnanDiff[wXnanDiff>0]\n",
    "wXnanDiff = wXnanDiff[wXnanDiff<50]\n",
    "plt.hist(wXnanDiff,bins=50)\n",
    "plt.title(\"Distribution of consecutive FEE data runs\")\n",
    "plt.show()\n",
    "\n",
    "wXan = np.where(Xan[:,0])[0]\n",
    "wXanDiff = wXan[1:]-wXan[:-1]-1\n",
    "wXanDiff = wXanDiff[wXanDiff>0]\n",
    "wXanDiff = wXanDiff[wXanDiff<50]\n",
    "plt.hist(wXanDiff,bins=50)\n",
    "plt.title(\"Distribution of FEE data gaps\")\n",
    "plt.show()"
   ]
  }
 ],
 "metadata": {
  "kernelspec": {
   "display_name": "imp_ker",
   "language": "python",
   "name": "imp_ker"
  },
  "language_info": {
   "codemirror_mode": {
    "name": "ipython",
    "version": 3
   },
   "file_extension": ".py",
   "mimetype": "text/x-python",
   "name": "python",
   "nbconvert_exporter": "python",
   "pygments_lexer": "ipython3",
   "version": "3.8.10"
  },
  "varInspector": {
   "cols": {
    "lenName": 16,
    "lenType": 16,
    "lenVar": 40
   },
   "kernels_config": {
    "python": {
     "delete_cmd_postfix": "",
     "delete_cmd_prefix": "del ",
     "library": "var_list.py",
     "varRefreshCmd": "print(var_dic_list())"
    },
    "r": {
     "delete_cmd_postfix": ") ",
     "delete_cmd_prefix": "rm(",
     "library": "var_list.r",
     "varRefreshCmd": "cat(var_dic_list()) "
    }
   },
   "types_to_exclude": [
    "module",
    "function",
    "builtin_function_or_method",
    "instance",
    "_Feature"
   ],
   "window_display": false
  }
 },
 "nbformat": 4,
 "nbformat_minor": 5
}
