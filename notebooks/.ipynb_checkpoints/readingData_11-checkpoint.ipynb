{
 "cells": [
  {
   "cell_type": "code",
   "execution_count": 15,
   "id": "48d8063f-2923-4c82-8e8c-81175e74448d",
   "metadata": {},
   "outputs": [],
   "source": [
    "import pandas as pd\n",
    "import os\n",
    "import matplotlib.pyplot as plt"
   ]
  },
  {
   "cell_type": "code",
   "execution_count": 2,
   "id": "4b272405-3c4b-4c91-84be-98af5b657973",
   "metadata": {},
   "outputs": [
    {
     "name": "stderr",
     "output_type": "stream",
     "text": [
      "/tmp/ipykernel_3043609/2095477889.py:1: DtypeWarning: Columns (0,2,3,4,5,6,7,8,9) have mixed types. Specify dtype option on import or set low_memory=False.\n",
      "  df = pd.read_csv(os.path.abspath('../data/Nal_filtre_FLX_NEE_01012011_31122017.csv'), encoding = \"ISO-8859-1\", sep = ';')\n"
     ]
    }
   ],
   "source": [
    "df = pd.read_csv(os.path.abspath('../data/Nal_filtre_FLX_NEE_01012011_31122017.csv'), encoding = \"ISO-8859-1\", sep = ';')\n",
    "# df = pd.read_csv(os.path.abspath('../data/Nal_filtre_FLX_NEE_01012007_31122010.csv'), encoding = \"ISO-8859-1\", sep = ';')"
   ]
  },
  {
   "cell_type": "markdown",
   "id": "c621479f-fafd-4507-b7d8-ec1f9750ab33",
   "metadata": {},
   "source": [
    "---"
   ]
  },
  {
   "cell_type": "code",
   "execution_count": 3,
   "id": "28cbea47-3771-412b-b595-70b9574e44ba",
   "metadata": {},
   "outputs": [
    {
     "data": {
      "text/html": [
       "<div>\n",
       "<style scoped>\n",
       "    .dataframe tbody tr th:only-of-type {\n",
       "        vertical-align: middle;\n",
       "    }\n",
       "\n",
       "    .dataframe tbody tr th {\n",
       "        vertical-align: top;\n",
       "    }\n",
       "\n",
       "    .dataframe thead th {\n",
       "        text-align: right;\n",
       "    }\n",
       "</style>\n",
       "<table border=\"1\" class=\"dataframe\">\n",
       "  <thead>\n",
       "    <tr style=\"text-align: right;\">\n",
       "      <th></th>\n",
       "      <th>hour (numeric)</th>\n",
       "      <th>Date (dd/mm/yyyy hh:mm)</th>\n",
       "      <th>Net Ecosystem Exchange  which is the CO2 (umol/m2/s)</th>\n",
       "      <th>Friction Velocity (m/s)</th>\n",
       "      <th>Incoming shortwave radiation (W/m2)</th>\n",
       "      <th>Air temperature (°C)</th>\n",
       "      <th>Water vapor deficit (kpa)</th>\n",
       "      <th>Soil temperature at 10 cm below the surface (°C)</th>\n",
       "      <th>Soil moisture at 10 cm below the surface (cm3/cm3)</th>\n",
       "      <th>Soil moisture at 30 cm below the surface (cm3/cm3)</th>\n",
       "    </tr>\n",
       "  </thead>\n",
       "  <tbody>\n",
       "    <tr>\n",
       "      <th>0</th>\n",
       "      <td>heure</td>\n",
       "      <td>DateUTC</td>\n",
       "      <td>NEE</td>\n",
       "      <td>Ustar</td>\n",
       "      <td>Swin</td>\n",
       "      <td>T_meteo</td>\n",
       "      <td>VPD</td>\n",
       "      <td>Tsol1_10</td>\n",
       "      <td>Hv1</td>\n",
       "      <td>Hv2</td>\n",
       "    </tr>\n",
       "    <tr>\n",
       "      <th>1</th>\n",
       "      <td>0</td>\n",
       "      <td>01/01/2011 00:00</td>\n",
       "      <td>NaN</td>\n",
       "      <td>0.23159</td>\n",
       "      <td>NaN</td>\n",
       "      <td>NaN</td>\n",
       "      <td>NaN</td>\n",
       "      <td>NaN</td>\n",
       "      <td>0.038</td>\n",
       "      <td>0.056</td>\n",
       "    </tr>\n",
       "    <tr>\n",
       "      <th>2</th>\n",
       "      <td>0.5</td>\n",
       "      <td>01/01/2011 00:30</td>\n",
       "      <td>NaN</td>\n",
       "      <td>0.20874</td>\n",
       "      <td>-3.113</td>\n",
       "      <td>18.64</td>\n",
       "      <td>1.569496568</td>\n",
       "      <td>27.385</td>\n",
       "      <td>0.038</td>\n",
       "      <td>0.056</td>\n",
       "    </tr>\n",
       "    <tr>\n",
       "      <th>3</th>\n",
       "      <td>1</td>\n",
       "      <td>01/01/2011 01:00</td>\n",
       "      <td>NaN</td>\n",
       "      <td>0.17778</td>\n",
       "      <td>-3.181</td>\n",
       "      <td>17.785</td>\n",
       "      <td>1.453069295</td>\n",
       "      <td>27.14</td>\n",
       "      <td>0.038</td>\n",
       "      <td>0.056</td>\n",
       "    </tr>\n",
       "    <tr>\n",
       "      <th>4</th>\n",
       "      <td>1.5</td>\n",
       "      <td>01/01/2011 01:30</td>\n",
       "      <td>NaN</td>\n",
       "      <td>0.1663</td>\n",
       "      <td>-2.4925</td>\n",
       "      <td>17.635</td>\n",
       "      <td>1.424169175</td>\n",
       "      <td>26.9</td>\n",
       "      <td>0.038</td>\n",
       "      <td>0.056</td>\n",
       "    </tr>\n",
       "  </tbody>\n",
       "</table>\n",
       "</div>"
      ],
      "text/plain": [
       "  hour (numeric) Date (dd/mm/yyyy hh:mm)  \\\n",
       "0          heure                 DateUTC   \n",
       "1              0        01/01/2011 00:00   \n",
       "2            0.5        01/01/2011 00:30   \n",
       "3              1        01/01/2011 01:00   \n",
       "4            1.5        01/01/2011 01:30   \n",
       "\n",
       "  Net Ecosystem Exchange  which is the CO2 (umol/m2/s)  \\\n",
       "0                                                NEE     \n",
       "1                                                NaN     \n",
       "2                                                NaN     \n",
       "3                                                NaN     \n",
       "4                                                NaN     \n",
       "\n",
       "  Friction Velocity (m/s) Incoming shortwave radiation (W/m2)  \\\n",
       "0                   Ustar                                Swin   \n",
       "1                 0.23159                                 NaN   \n",
       "2                 0.20874                              -3.113   \n",
       "3                 0.17778                              -3.181   \n",
       "4                  0.1663                             -2.4925   \n",
       "\n",
       "  Air temperature (°C) Water vapor deficit (kpa)  \\\n",
       "0              T_meteo                       VPD   \n",
       "1                  NaN                       NaN   \n",
       "2                18.64               1.569496568   \n",
       "3               17.785               1.453069295   \n",
       "4               17.635               1.424169175   \n",
       "\n",
       "  Soil temperature at 10 cm below the surface (°C)  \\\n",
       "0                                         Tsol1_10   \n",
       "1                                              NaN   \n",
       "2                                           27.385   \n",
       "3                                            27.14   \n",
       "4                                             26.9   \n",
       "\n",
       "  Soil moisture at 10 cm below the surface (cm3/cm3)  \\\n",
       "0                                                Hv1   \n",
       "1                                              0.038   \n",
       "2                                              0.038   \n",
       "3                                              0.038   \n",
       "4                                              0.038   \n",
       "\n",
       "  Soil moisture at 30 cm below the surface (cm3/cm3)  \n",
       "0                                                Hv2  \n",
       "1                                              0.056  \n",
       "2                                              0.056  \n",
       "3                                              0.056  \n",
       "4                                              0.056  "
      ]
     },
     "execution_count": 3,
     "metadata": {},
     "output_type": "execute_result"
    }
   ],
   "source": [
    "df.head(5)"
   ]
  },
  {
   "cell_type": "markdown",
   "id": "3effec67-b150-4f88-b709-378f37f925da",
   "metadata": {},
   "source": [
    "---"
   ]
  },
  {
   "cell_type": "code",
   "execution_count": 4,
   "id": "9ab8b156-d2cb-42a0-866b-90d49e3748db",
   "metadata": {},
   "outputs": [
    {
     "name": "stdout",
     "output_type": "stream",
     "text": [
      "Index(['hour (numeric)', 'Date (dd/mm/yyyy hh:mm)',\n",
      "       'Net Ecosystem Exchange  which is the CO2 (umol/m2/s)',\n",
      "       'Friction Velocity (m/s)', 'Incoming shortwave radiation (W/m2)',\n",
      "       'Air temperature (°C)', 'Water vapor deficit (kpa)',\n",
      "       'Soil temperature at 10 cm below the surface (°C)',\n",
      "       'Soil moisture at 10 cm below the surface (cm3/cm3)',\n",
      "       'Soil moisture at 30 cm below the surface (cm3/cm3)'],\n",
      "      dtype='object')\n"
     ]
    }
   ],
   "source": [
    "print(df.columns)"
   ]
  },
  {
   "cell_type": "markdown",
   "id": "7e69be18-147d-46d2-90d5-b05074e46925",
   "metadata": {},
   "source": [
    "---"
   ]
  },
  {
   "cell_type": "markdown",
   "id": "ac149ceb-55dc-4828-b9a8-d3fbb71fa930",
   "metadata": {},
   "source": [
    "fixing the name to be the 1st row"
   ]
  },
  {
   "cell_type": "code",
   "execution_count": 5,
   "id": "7c68b7d2-99a8-47d0-a4ea-e6579640dd19",
   "metadata": {},
   "outputs": [],
   "source": [
    "df.columns = df.iloc[0] # fix the col names to be the 1st col\n",
    "df = df.iloc[1:] # fix the col names to be the 1st col"
   ]
  },
  {
   "cell_type": "code",
   "execution_count": 6,
   "id": "c22f3536-52cb-4117-8975-2901427c909f",
   "metadata": {},
   "outputs": [
    {
     "data": {
      "text/html": [
       "<div>\n",
       "<style scoped>\n",
       "    .dataframe tbody tr th:only-of-type {\n",
       "        vertical-align: middle;\n",
       "    }\n",
       "\n",
       "    .dataframe tbody tr th {\n",
       "        vertical-align: top;\n",
       "    }\n",
       "\n",
       "    .dataframe thead th {\n",
       "        text-align: right;\n",
       "    }\n",
       "</style>\n",
       "<table border=\"1\" class=\"dataframe\">\n",
       "  <thead>\n",
       "    <tr style=\"text-align: right;\">\n",
       "      <th></th>\n",
       "      <th>heure</th>\n",
       "      <th>DateUTC</th>\n",
       "      <th>NEE</th>\n",
       "      <th>Ustar</th>\n",
       "      <th>Swin</th>\n",
       "      <th>T_meteo</th>\n",
       "      <th>VPD</th>\n",
       "      <th>Tsol1_10</th>\n",
       "      <th>Hv1</th>\n",
       "      <th>Hv2</th>\n",
       "    </tr>\n",
       "  </thead>\n",
       "  <tbody>\n",
       "    <tr>\n",
       "      <th>1</th>\n",
       "      <td>0</td>\n",
       "      <td>01/01/2011 00:00</td>\n",
       "      <td>NaN</td>\n",
       "      <td>0.23159</td>\n",
       "      <td>NaN</td>\n",
       "      <td>NaN</td>\n",
       "      <td>NaN</td>\n",
       "      <td>NaN</td>\n",
       "      <td>0.038</td>\n",
       "      <td>0.056</td>\n",
       "    </tr>\n",
       "    <tr>\n",
       "      <th>2</th>\n",
       "      <td>0.5</td>\n",
       "      <td>01/01/2011 00:30</td>\n",
       "      <td>NaN</td>\n",
       "      <td>0.20874</td>\n",
       "      <td>-3.113</td>\n",
       "      <td>18.64</td>\n",
       "      <td>1.569496568</td>\n",
       "      <td>27.385</td>\n",
       "      <td>0.038</td>\n",
       "      <td>0.056</td>\n",
       "    </tr>\n",
       "  </tbody>\n",
       "</table>\n",
       "</div>"
      ],
      "text/plain": [
       "0 heure           DateUTC  NEE    Ustar    Swin T_meteo          VPD Tsol1_10  \\\n",
       "1     0  01/01/2011 00:00  NaN  0.23159     NaN     NaN          NaN      NaN   \n",
       "2   0.5  01/01/2011 00:30  NaN  0.20874  -3.113   18.64  1.569496568   27.385   \n",
       "\n",
       "0    Hv1    Hv2  \n",
       "1  0.038  0.056  \n",
       "2  0.038  0.056  "
      ]
     },
     "execution_count": 6,
     "metadata": {},
     "output_type": "execute_result"
    }
   ],
   "source": [
    "df.head(2)"
   ]
  },
  {
   "cell_type": "markdown",
   "id": "0f17c085-ab7e-4923-8624-7b798daf9569",
   "metadata": {},
   "source": [
    "---"
   ]
  },
  {
   "cell_type": "code",
   "execution_count": 7,
   "id": "04d6fece-2eb9-466f-90e2-1a32da6abf35",
   "metadata": {},
   "outputs": [
    {
     "data": {
      "text/plain": [
       "(122736, 10)"
      ]
     },
     "execution_count": 7,
     "metadata": {},
     "output_type": "execute_result"
    }
   ],
   "source": [
    "df.shape\n",
    "# why all of them of typoe object (it should be float64)"
   ]
  },
  {
   "cell_type": "markdown",
   "id": "0aec6e35-35af-4864-a79d-c88df6938f1a",
   "metadata": {},
   "source": [
    "---"
   ]
  },
  {
   "cell_type": "code",
   "execution_count": 8,
   "id": "681c8e63-f458-43ff-85a1-e84cb635e554",
   "metadata": {},
   "outputs": [
    {
     "data": {
      "text/html": [
       "<div>\n",
       "<style scoped>\n",
       "    .dataframe tbody tr th:only-of-type {\n",
       "        vertical-align: middle;\n",
       "    }\n",
       "\n",
       "    .dataframe tbody tr th {\n",
       "        vertical-align: top;\n",
       "    }\n",
       "\n",
       "    .dataframe thead th {\n",
       "        text-align: right;\n",
       "    }\n",
       "</style>\n",
       "<table border=\"1\" class=\"dataframe\">\n",
       "  <thead>\n",
       "    <tr style=\"text-align: right;\">\n",
       "      <th></th>\n",
       "      <th>heure</th>\n",
       "      <th>DateUTC</th>\n",
       "      <th>NEE</th>\n",
       "      <th>Ustar</th>\n",
       "      <th>Swin</th>\n",
       "      <th>T_meteo</th>\n",
       "      <th>VPD</th>\n",
       "      <th>Tsol1_10</th>\n",
       "      <th>Hv1</th>\n",
       "      <th>Hv2</th>\n",
       "    </tr>\n",
       "  </thead>\n",
       "  <tbody>\n",
       "    <tr>\n",
       "      <th>count</th>\n",
       "      <td>122736</td>\n",
       "      <td>122736</td>\n",
       "      <td>56232</td>\n",
       "      <td>67447.00000</td>\n",
       "      <td>108811.0</td>\n",
       "      <td>109725.0</td>\n",
       "      <td>107369</td>\n",
       "      <td>88142.0</td>\n",
       "      <td>114042</td>\n",
       "      <td>116410</td>\n",
       "    </tr>\n",
       "    <tr>\n",
       "      <th>unique</th>\n",
       "      <td>96</td>\n",
       "      <td>122736</td>\n",
       "      <td>56232</td>\n",
       "      <td>47791.00000</td>\n",
       "      <td>48224.0</td>\n",
       "      <td>30171.0</td>\n",
       "      <td>91187</td>\n",
       "      <td>6202.0</td>\n",
       "      <td>354</td>\n",
       "      <td>385</td>\n",
       "    </tr>\n",
       "    <tr>\n",
       "      <th>top</th>\n",
       "      <td>0</td>\n",
       "      <td>01/01/2011 00:00</td>\n",
       "      <td>-0.011749636</td>\n",
       "      <td>0.06387</td>\n",
       "      <td>-1.0</td>\n",
       "      <td>0.0</td>\n",
       "      <td>4.388121134</td>\n",
       "      <td>28.0</td>\n",
       "      <td>0.035</td>\n",
       "      <td>0.053</td>\n",
       "    </tr>\n",
       "    <tr>\n",
       "      <th>freq</th>\n",
       "      <td>1366</td>\n",
       "      <td>1</td>\n",
       "      <td>1</td>\n",
       "      <td>7.00000</td>\n",
       "      <td>640.0</td>\n",
       "      <td>2356.0</td>\n",
       "      <td>201</td>\n",
       "      <td>349.0</td>\n",
       "      <td>3311</td>\n",
       "      <td>3142</td>\n",
       "    </tr>\n",
       "  </tbody>\n",
       "</table>\n",
       "</div>"
      ],
      "text/plain": [
       "0        heure           DateUTC           NEE        Ustar      Swin  \\\n",
       "count   122736            122736         56232  67447.00000  108811.0   \n",
       "unique      96            122736         56232  47791.00000   48224.0   \n",
       "top          0  01/01/2011 00:00  -0.011749636      0.06387      -1.0   \n",
       "freq      1366                 1             1      7.00000     640.0   \n",
       "\n",
       "0        T_meteo          VPD  Tsol1_10     Hv1     Hv2  \n",
       "count   109725.0       107369   88142.0  114042  116410  \n",
       "unique   30171.0        91187    6202.0     354     385  \n",
       "top          0.0  4.388121134      28.0   0.035   0.053  \n",
       "freq      2356.0          201     349.0    3311    3142  "
      ]
     },
     "execution_count": 8,
     "metadata": {},
     "output_type": "execute_result"
    }
   ],
   "source": [
    "df.describe()"
   ]
  },
  {
   "cell_type": "markdown",
   "id": "a28b042b-4a66-4f31-bc18-dfcdc53fe488",
   "metadata": {},
   "source": [
    "---"
   ]
  },
  {
   "cell_type": "markdown",
   "id": "d9d3007d-7e66-41f3-83dc-7e5d06f0822c",
   "metadata": {},
   "source": [
    "Checking the type"
   ]
  },
  {
   "cell_type": "code",
   "execution_count": 9,
   "id": "2ad21f19-31d8-499a-b7ef-3aa172817525",
   "metadata": {},
   "outputs": [
    {
     "data": {
      "text/plain": [
       "0\n",
       "heure       object\n",
       "DateUTC     object\n",
       "NEE         object\n",
       "Ustar       object\n",
       "Swin        object\n",
       "T_meteo     object\n",
       "VPD         object\n",
       "Tsol1_10    object\n",
       "Hv1         object\n",
       "Hv2         object\n",
       "dtype: object"
      ]
     },
     "execution_count": 9,
     "metadata": {},
     "output_type": "execute_result"
    }
   ],
   "source": [
    "df.dtypes"
   ]
  },
  {
   "cell_type": "markdown",
   "id": "49236658-cd26-41ed-bcaf-bc34ab873ccc",
   "metadata": {},
   "source": [
    "we need to change the following [2:] to float64"
   ]
  },
  {
   "cell_type": "code",
   "execution_count": 10,
   "id": "072a8be9-87f0-47ef-b3c3-35f83d785036",
   "metadata": {},
   "outputs": [
    {
     "data": {
      "text/html": [
       "<div>\n",
       "<style scoped>\n",
       "    .dataframe tbody tr th:only-of-type {\n",
       "        vertical-align: middle;\n",
       "    }\n",
       "\n",
       "    .dataframe tbody tr th {\n",
       "        vertical-align: top;\n",
       "    }\n",
       "\n",
       "    .dataframe thead th {\n",
       "        text-align: right;\n",
       "    }\n",
       "</style>\n",
       "<table border=\"1\" class=\"dataframe\">\n",
       "  <thead>\n",
       "    <tr style=\"text-align: right;\">\n",
       "      <th></th>\n",
       "      <th>heure</th>\n",
       "      <th>DateUTC</th>\n",
       "      <th>NEE</th>\n",
       "      <th>Ustar</th>\n",
       "      <th>Swin</th>\n",
       "      <th>T_meteo</th>\n",
       "      <th>VPD</th>\n",
       "      <th>Tsol1_10</th>\n",
       "      <th>Hv1</th>\n",
       "      <th>Hv2</th>\n",
       "    </tr>\n",
       "  </thead>\n",
       "  <tbody>\n",
       "    <tr>\n",
       "      <th>1</th>\n",
       "      <td>0</td>\n",
       "      <td>01/01/2011 00:00</td>\n",
       "      <td>NaN</td>\n",
       "      <td>0.23159</td>\n",
       "      <td>NaN</td>\n",
       "      <td>NaN</td>\n",
       "      <td>NaN</td>\n",
       "      <td>NaN</td>\n",
       "      <td>0.038</td>\n",
       "      <td>0.056</td>\n",
       "    </tr>\n",
       "    <tr>\n",
       "      <th>2</th>\n",
       "      <td>0.5</td>\n",
       "      <td>01/01/2011 00:30</td>\n",
       "      <td>NaN</td>\n",
       "      <td>0.20874</td>\n",
       "      <td>-3.113</td>\n",
       "      <td>18.64</td>\n",
       "      <td>1.569497</td>\n",
       "      <td>27.385</td>\n",
       "      <td>0.038</td>\n",
       "      <td>0.056</td>\n",
       "    </tr>\n",
       "    <tr>\n",
       "      <th>3</th>\n",
       "      <td>1</td>\n",
       "      <td>01/01/2011 01:00</td>\n",
       "      <td>NaN</td>\n",
       "      <td>0.17778</td>\n",
       "      <td>-3.181</td>\n",
       "      <td>17.785</td>\n",
       "      <td>1.453069</td>\n",
       "      <td>27.14</td>\n",
       "      <td>0.038</td>\n",
       "      <td>0.056</td>\n",
       "    </tr>\n",
       "    <tr>\n",
       "      <th>4</th>\n",
       "      <td>1.5</td>\n",
       "      <td>01/01/2011 01:30</td>\n",
       "      <td>NaN</td>\n",
       "      <td>0.1663</td>\n",
       "      <td>-2.4925</td>\n",
       "      <td>17.635</td>\n",
       "      <td>1.424169</td>\n",
       "      <td>26.9</td>\n",
       "      <td>0.038</td>\n",
       "      <td>0.056</td>\n",
       "    </tr>\n",
       "    <tr>\n",
       "      <th>5</th>\n",
       "      <td>2</td>\n",
       "      <td>01/01/2011 02:00</td>\n",
       "      <td>NaN</td>\n",
       "      <td>0.20026</td>\n",
       "      <td>-2.4065</td>\n",
       "      <td>17.65</td>\n",
       "      <td>1.420469</td>\n",
       "      <td>26.645</td>\n",
       "      <td>0.038</td>\n",
       "      <td>0.056</td>\n",
       "    </tr>\n",
       "    <tr>\n",
       "      <th>...</th>\n",
       "      <td>...</td>\n",
       "      <td>...</td>\n",
       "      <td>...</td>\n",
       "      <td>...</td>\n",
       "      <td>...</td>\n",
       "      <td>...</td>\n",
       "      <td>...</td>\n",
       "      <td>...</td>\n",
       "      <td>...</td>\n",
       "      <td>...</td>\n",
       "    </tr>\n",
       "    <tr>\n",
       "      <th>122732</th>\n",
       "      <td>21.5</td>\n",
       "      <td>31/12/2017 21:30</td>\n",
       "      <td>NaN</td>\n",
       "      <td>NaN</td>\n",
       "      <td>-3.6</td>\n",
       "      <td>22.6</td>\n",
       "      <td>1.968886</td>\n",
       "      <td>NaN</td>\n",
       "      <td>0.036</td>\n",
       "      <td>0.058</td>\n",
       "    </tr>\n",
       "    <tr>\n",
       "      <th>122733</th>\n",
       "      <td>22.0</td>\n",
       "      <td>31/12/2017 22:00</td>\n",
       "      <td>NaN</td>\n",
       "      <td>NaN</td>\n",
       "      <td>-3.4</td>\n",
       "      <td>22.1</td>\n",
       "      <td>1.891324</td>\n",
       "      <td>NaN</td>\n",
       "      <td>0.036</td>\n",
       "      <td>0.058</td>\n",
       "    </tr>\n",
       "    <tr>\n",
       "      <th>122734</th>\n",
       "      <td>22.5</td>\n",
       "      <td>31/12/2017 22:30</td>\n",
       "      <td>NaN</td>\n",
       "      <td>NaN</td>\n",
       "      <td>-3.5</td>\n",
       "      <td>21.5</td>\n",
       "      <td>1.807916</td>\n",
       "      <td>NaN</td>\n",
       "      <td>0.036</td>\n",
       "      <td>0.058</td>\n",
       "    </tr>\n",
       "    <tr>\n",
       "      <th>122735</th>\n",
       "      <td>23.0</td>\n",
       "      <td>31/12/2017 23:00</td>\n",
       "      <td>NaN</td>\n",
       "      <td>NaN</td>\n",
       "      <td>-3.3</td>\n",
       "      <td>21.2</td>\n",
       "      <td>1.764923</td>\n",
       "      <td>NaN</td>\n",
       "      <td>0.036</td>\n",
       "      <td>0.058</td>\n",
       "    </tr>\n",
       "    <tr>\n",
       "      <th>122736</th>\n",
       "      <td>23.5</td>\n",
       "      <td>31/12/2017 23:30</td>\n",
       "      <td>NaN</td>\n",
       "      <td>NaN</td>\n",
       "      <td>-3.6</td>\n",
       "      <td>20.7</td>\n",
       "      <td>1.696873</td>\n",
       "      <td>NaN</td>\n",
       "      <td>0.036</td>\n",
       "      <td>0.058</td>\n",
       "    </tr>\n",
       "  </tbody>\n",
       "</table>\n",
       "<p>122736 rows × 10 columns</p>\n",
       "</div>"
      ],
      "text/plain": [
       "0      heure           DateUTC  NEE    Ustar    Swin T_meteo       VPD  \\\n",
       "1          0  01/01/2011 00:00  NaN  0.23159     NaN     NaN       NaN   \n",
       "2        0.5  01/01/2011 00:30  NaN  0.20874  -3.113   18.64  1.569497   \n",
       "3          1  01/01/2011 01:00  NaN  0.17778  -3.181  17.785  1.453069   \n",
       "4        1.5  01/01/2011 01:30  NaN   0.1663 -2.4925  17.635  1.424169   \n",
       "5          2  01/01/2011 02:00  NaN  0.20026 -2.4065   17.65  1.420469   \n",
       "...      ...               ...  ...      ...     ...     ...       ...   \n",
       "122732  21.5  31/12/2017 21:30  NaN      NaN    -3.6    22.6  1.968886   \n",
       "122733  22.0  31/12/2017 22:00  NaN      NaN    -3.4    22.1  1.891324   \n",
       "122734  22.5  31/12/2017 22:30  NaN      NaN    -3.5    21.5  1.807916   \n",
       "122735  23.0  31/12/2017 23:00  NaN      NaN    -3.3    21.2  1.764923   \n",
       "122736  23.5  31/12/2017 23:30  NaN      NaN    -3.6    20.7  1.696873   \n",
       "\n",
       "0      Tsol1_10    Hv1    Hv2  \n",
       "1           NaN  0.038  0.056  \n",
       "2        27.385  0.038  0.056  \n",
       "3         27.14  0.038  0.056  \n",
       "4          26.9  0.038  0.056  \n",
       "5        26.645  0.038  0.056  \n",
       "...         ...    ...    ...  \n",
       "122732      NaN  0.036  0.058  \n",
       "122733      NaN  0.036  0.058  \n",
       "122734      NaN  0.036  0.058  \n",
       "122735      NaN  0.036  0.058  \n",
       "122736      NaN  0.036  0.058  \n",
       "\n",
       "[122736 rows x 10 columns]"
      ]
     },
     "execution_count": 10,
     "metadata": {},
     "output_type": "execute_result"
    }
   ],
   "source": [
    "df.iloc[:, 2:] = df.iloc[:, 2:].astype(float)\n",
    "\n",
    "df"
   ]
  },
  {
   "cell_type": "markdown",
   "id": "cd67a05a-8f40-4009-b031-633579a9dff5",
   "metadata": {},
   "source": [
    "---"
   ]
  },
  {
   "cell_type": "markdown",
   "id": "5315c368-b3b6-413a-8a93-2bd5282ed73d",
   "metadata": {},
   "source": [
    "Graphs"
   ]
  },
  {
   "cell_type": "code",
   "execution_count": 22,
   "id": "37af89c7-d5d9-4fe4-ac7a-4b6ff0001e3e",
   "metadata": {},
   "outputs": [
    {
     "name": "stdout",
     "output_type": "stream",
     "text": [
      "NEE\n"
     ]
    },
    {
     "data": {
      "image/png": "[encoded data removed]",
      "text/plain": [
       "<Figure size 432x288 with 1 Axes>"
      ]
     },
     "metadata": {
      "needs_background": "light"
     },
     "output_type": "display_data"
    },
    {
     "name": "stdout",
     "output_type": "stream",
     "text": [
      "Ustar\n"
     ]
    },
    {
     "data": {
      "image/png": "[encoded data removed]",
      "text/plain": [
       "<Figure size 432x288 with 1 Axes>"
      ]
     },
     "metadata": {
      "needs_background": "light"
     },
     "output_type": "display_data"
    },
    {
     "name": "stdout",
     "output_type": "stream",
     "text": [
      "Swin\n"
     ]
    },
    {
     "data": {
      "image/png": "[encoded data removed]",
      "text/plain": [
       "<Figure size 432x288 with 1 Axes>"
      ]
     },
     "metadata": {
      "needs_background": "light"
     },
     "output_type": "display_data"
    },
    {
     "name": "stdout",
     "output_type": "stream",
     "text": [
      "T_meteo\n"
     ]
    },
    {
     "data": {
      "image/png": "[encoded data removed]",
      "text/plain": [
       "<Figure size 432x288 with 1 Axes>"
      ]
     },
     "metadata": {
      "needs_background": "light"
     },
     "output_type": "display_data"
    },
    {
     "name": "stdout",
     "output_type": "stream",
     "text": [
      "VPD\n"
     ]
    },
    {
     "data": {
      "image/png": "[encoded data removed]",
      "text/plain": [
       "<Figure size 432x288 with 1 Axes>"
      ]
     },
     "metadata": {
      "needs_background": "light"
     },
     "output_type": "display_data"
    },
    {
     "name": "stdout",
     "output_type": "stream",
     "text": [
      "Tsol1_10\n"
     ]
    },
    {
     "data": {
      "image/png": "[encoded data removed]",
      "text/plain": [
       "<Figure size 432x288 with 1 Axes>"
      ]
     },
     "metadata": {
      "needs_background": "light"
     },
     "output_type": "display_data"
    },
    {
     "name": "stdout",
     "output_type": "stream",
     "text": [
      "Hv1\n"
     ]
    },
    {
     "data": {
      "image/png": "[encoded data removed]",
      "text/plain": [
       "<Figure size 432x288 with 1 Axes>"
      ]
     },
     "metadata": {
      "needs_background": "light"
     },
     "output_type": "display_data"
    },
    {
     "name": "stdout",
     "output_type": "stream",
     "text": [
      "Hv2\n"
     ]
    },
    {
     "data": {
      "image/png": "[encoded data removed]",
      "text/plain": [
       "<Figure size 432x288 with 1 Axes>"
      ]
     },
     "metadata": {
      "needs_background": "light"
     },
     "output_type": "display_data"
    }
   ],
   "source": [
    "for col in df.columns[2:]:\n",
    "    print(col)\n",
    "    df[col].plot(linewidth=0.5)\n",
    "    plt.show()\n"
   ]
  },
  {
   "cell_type": "code",
   "execution_count": null,
   "id": "234d5fe8-cd92-473c-bb79-a14cdc2e365e",
   "metadata": {},
   "outputs": [],
   "source": []
  }
 ],
 "metadata": {
  "kernelspec": {
   "display_name": "imp_ker",
   "language": "python",
   "name": "imp_ker"
  },
  "language_info": {
   "codemirror_mode": {
    "name": "ipython",
    "version": 3
   },
   "file_extension": ".py",
   "mimetype": "text/x-python",
   "name": "python",
   "nbconvert_exporter": "python",
   "pygments_lexer": "ipython3",
   "version": "3.8.10"
  }
 },
 "nbformat": 4,
 "nbformat_minor": 5
}
