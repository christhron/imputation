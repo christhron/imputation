{
 "cells": [
  {
   "cell_type": "code",
   "execution_count": 3,
   "id": "8b35e7b0-48bc-4fde-ad96-2bb2cdd1a887",
   "metadata": {},
   "outputs": [],
   "source": [
    "import pandas as pd\n",
    "import os\n",
    "import matplotlib.pyplot as plt\n",
    "import numpy as np\n",
    "import seaborn as sns"
   ]
  },
  {
   "cell_type": "markdown",
   "id": "0a712ceb-e303-44c5-b826-34b5adefba4b",
   "metadata": {},
   "source": [
    "### Reading the data"
   ]
  },
  {
   "cell_type": "code",
   "execution_count": 4,
   "id": "da603500-71ac-479a-bb52-a46b618701fa",
   "metadata": {},
   "outputs": [
    {
     "name": "stderr",
     "output_type": "stream",
     "text": [
      "/tmp/ipykernel_767501/2543690903.py:1: DtypeWarning: Columns (0,2,3,4,5,6,7,8,9) have mixed types. Specify dtype option on import or set low_memory=False.\n",
      "  df = pd.read_csv(os.path.abspath('../data/Nal_filtre_FLX_NEE_01012011_31122017.csv'), encoding = \"ISO-8859-1\", sep = ';')\n"
     ]
    }
   ],
   "source": [
    "df = pd.read_csv(os.path.abspath('../data/Nal_filtre_FLX_NEE_01012011_31122017.csv'), encoding = \"ISO-8859-1\", sep = ';')\n",
    "df.columns = df.iloc[0] # fix the col names to be the 1st col\n",
    "df = df.iloc[1:] # fix the col names to be the 1st col"
   ]
  },
  {
   "cell_type": "code",
   "execution_count": 5,
   "id": "4535f17a-8ec2-4afd-8243-eb3f0a335b86",
   "metadata": {},
   "outputs": [
    {
     "data": {
      "text/html": [
       "<div>\n",
       "<style scoped>\n",
       "    .dataframe tbody tr th:only-of-type {\n",
       "        vertical-align: middle;\n",
       "    }\n",
       "\n",
       "    .dataframe tbody tr th {\n",
       "        vertical-align: top;\n",
       "    }\n",
       "\n",
       "    .dataframe thead th {\n",
       "        text-align: right;\n",
       "    }\n",
       "</style>\n",
       "<table border=\"1\" class=\"dataframe\">\n",
       "  <thead>\n",
       "    <tr style=\"text-align: right;\">\n",
       "      <th></th>\n",
       "      <th>heure</th>\n",
       "      <th>DateUTC</th>\n",
       "      <th>NEE</th>\n",
       "      <th>Ustar</th>\n",
       "      <th>Swin</th>\n",
       "      <th>T_meteo</th>\n",
       "      <th>VPD</th>\n",
       "      <th>Tsol1_10</th>\n",
       "      <th>Hv1</th>\n",
       "      <th>Hv2</th>\n",
       "    </tr>\n",
       "  </thead>\n",
       "  <tbody>\n",
       "    <tr>\n",
       "      <th>1</th>\n",
       "      <td>0</td>\n",
       "      <td>01/01/2011 00:00</td>\n",
       "      <td>NaN</td>\n",
       "      <td>0.23159</td>\n",
       "      <td>NaN</td>\n",
       "      <td>NaN</td>\n",
       "      <td>NaN</td>\n",
       "      <td>NaN</td>\n",
       "      <td>0.038</td>\n",
       "      <td>0.056</td>\n",
       "    </tr>\n",
       "    <tr>\n",
       "      <th>2</th>\n",
       "      <td>0.5</td>\n",
       "      <td>01/01/2011 00:30</td>\n",
       "      <td>NaN</td>\n",
       "      <td>0.20874</td>\n",
       "      <td>-3.113</td>\n",
       "      <td>18.64</td>\n",
       "      <td>1.569496568</td>\n",
       "      <td>27.385</td>\n",
       "      <td>0.038</td>\n",
       "      <td>0.056</td>\n",
       "    </tr>\n",
       "    <tr>\n",
       "      <th>3</th>\n",
       "      <td>1</td>\n",
       "      <td>01/01/2011 01:00</td>\n",
       "      <td>NaN</td>\n",
       "      <td>0.17778</td>\n",
       "      <td>-3.181</td>\n",
       "      <td>17.785</td>\n",
       "      <td>1.453069295</td>\n",
       "      <td>27.14</td>\n",
       "      <td>0.038</td>\n",
       "      <td>0.056</td>\n",
       "    </tr>\n",
       "  </tbody>\n",
       "</table>\n",
       "</div>"
      ],
      "text/plain": [
       "0 heure           DateUTC  NEE    Ustar    Swin T_meteo          VPD Tsol1_10  \\\n",
       "1     0  01/01/2011 00:00  NaN  0.23159     NaN     NaN          NaN      NaN   \n",
       "2   0.5  01/01/2011 00:30  NaN  0.20874  -3.113   18.64  1.569496568   27.385   \n",
       "3     1  01/01/2011 01:00  NaN  0.17778  -3.181  17.785  1.453069295    27.14   \n",
       "\n",
       "0    Hv1    Hv2  \n",
       "1  0.038  0.056  \n",
       "2  0.038  0.056  \n",
       "3  0.038  0.056  "
      ]
     },
     "execution_count": 5,
     "metadata": {},
     "output_type": "execute_result"
    }
   ],
   "source": [
    "df.head(3)"
   ]
  },
  {
   "cell_type": "markdown",
   "id": "948fbe23-e749-4c2f-ac08-9094cdb1e6ab",
   "metadata": {},
   "source": [
    "---"
   ]
  },
  {
   "cell_type": "markdown",
   "id": "82cdf397-19aa-4691-aea2-280a95f936f9",
   "metadata": {},
   "source": [
    "### Convert to Numpy"
   ]
  },
  {
   "cell_type": "code",
   "execution_count": 6,
   "id": "dd9dabfa-8535-4511-b3ad-dc34d471fc27",
   "metadata": {},
   "outputs": [
    {
     "name": "stdout",
     "output_type": "stream",
     "text": [
      "(122736, 8)\n"
     ]
    }
   ],
   "source": [
    "X = df.iloc[:,2:].values\n",
    "X = X.astype(float)\n",
    "print(X.shape)"
   ]
  },
  {
   "cell_type": "markdown",
   "id": "af15f098-d06b-4776-afa8-7ab926400ea8",
   "metadata": {},
   "source": [
    "---"
   ]
  },
  {
   "cell_type": "markdown",
   "id": "1485a43f-c6a2-4413-a86a-7544f15227bf",
   "metadata": {},
   "source": [
    "#### Reshape Into a Tensor"
   ]
  },
  {
   "cell_type": "markdown",
   "id": "794e874d-98e4-4537-a789-0c1f87f2dc0c",
   "metadata": {},
   "source": [
    "First, let us limit the data to just 7 years"
   ]
  },
  {
   "cell_type": "code",
   "execution_count": 7,
   "id": "c6a2dcd8-8a35-4896-9c1d-f7dfa8dab892",
   "metadata": {},
   "outputs": [
    {
     "name": "stdout",
     "output_type": "stream",
     "text": [
      "(122640, 8)\n",
      "(7, 17520, 8)\n",
      "[    nan 0.23159     nan     nan     nan     nan 0.038   0.056  ]\n"
     ]
    }
   ],
   "source": [
    "X = X[:365 * (len(X)//365) ,] # we are removing the extra days\n",
    "# i think we can use the extra rows for testing, if NEE is not NAN\n",
    "print(X.shape)\n",
    "X_tensor = np.reshape(X, (7, -1,8 )) \n",
    "print(X_tensor.shape) # (t, rows, cols)\n",
    "print(X_tensor[0][0])"
   ]
  },
  {
   "cell_type": "markdown",
   "id": "ca75a1be-8ec8-407e-a073-7c35c1630c19",
   "metadata": {},
   "source": [
    "#### Seasonality across the years"
   ]
  },
  {
   "cell_type": "code",
   "execution_count": 8,
   "id": "2a662162-c798-4c28-b14c-619cb764797f",
   "metadata": {},
   "outputs": [
    {
     "name": "stdout",
     "output_type": "stream",
     "text": [
      "(17520, 8)\n",
      "[ 1.0461021   0.148164   -1.81557333 21.4723275   1.88050172 28.088\n",
      "  0.03728571  0.056     ]\n"
     ]
    },
    {
     "name": "stderr",
     "output_type": "stream",
     "text": [
      "/tmp/ipykernel_767501/1513193925.py:1: RuntimeWarning: Mean of empty slice\n",
      "  Xseason = np.nanmean(X_tensor, axis = 0) # so we took the avrage across 7 years\n"
     ]
    }
   ],
   "source": [
    "Xseason = np.nanmean(X_tensor, axis = 0) # so we took the avrage across 7 years\n",
    "print(Xseason.shape)\n",
    "print(Xseason[0])"
   ]
  },
  {
   "cell_type": "markdown",
   "id": "63ba85c4-3d7b-4c4e-ac26-ae2331389b87",
   "metadata": {},
   "source": [
    "#### Removing Seasonality"
   ]
  },
  {
   "cell_type": "code",
   "execution_count": 9,
   "id": "8e92ee74-7e90-459d-9577-9264e0032667",
   "metadata": {},
   "outputs": [
    {
     "name": "stdout",
     "output_type": "stream",
     "text": [
      "(7, 17520, 8)\n",
      "[           nan 8.34260000e-02            nan            nan\n",
      "            nan            nan 7.14285714e-04 6.93889390e-18]\n"
     ]
    }
   ],
   "source": [
    "XClean = X_tensor - Xseason\n",
    "print(XClean.shape)\n",
    "print(XClean[0][0])"
   ]
  },
  {
   "cell_type": "code",
   "execution_count": 10,
   "id": "799f9943-edf5-4c96-8d3e-0d3a6a63e3a8",
   "metadata": {},
   "outputs": [
    {
     "name": "stdout",
     "output_type": "stream",
     "text": [
      "-0.083426\n"
     ]
    }
   ],
   "source": [
    "print(0.148164-0.23159)"
   ]
  },
  {
   "cell_type": "markdown",
   "id": "64f8f13e-057b-4381-bf97-4b5ce06c1660",
   "metadata": {},
   "source": [
    "working"
   ]
  },
  {
   "cell_type": "markdown",
   "id": "74b3d355-c303-4531-b7eb-a2bf5dd4d7c9",
   "metadata": {},
   "source": [
    "#### Standarization"
   ]
  },
  {
   "cell_type": "code",
   "execution_count": 11,
   "id": "6ce29a32-f210-4fe5-86ae-e0daa276aae1",
   "metadata": {},
   "outputs": [
    {
     "data": {
      "text/html": [
       "<div>\n",
       "<style scoped>\n",
       "    .dataframe tbody tr th:only-of-type {\n",
       "        vertical-align: middle;\n",
       "    }\n",
       "\n",
       "    .dataframe tbody tr th {\n",
       "        vertical-align: top;\n",
       "    }\n",
       "\n",
       "    .dataframe thead th {\n",
       "        text-align: right;\n",
       "    }\n",
       "</style>\n",
       "<table border=\"1\" class=\"dataframe\">\n",
       "  <thead>\n",
       "    <tr style=\"text-align: right;\">\n",
       "      <th></th>\n",
       "      <th>NEE</th>\n",
       "      <th>Ustar</th>\n",
       "      <th>Swin</th>\n",
       "      <th>T_meteo</th>\n",
       "      <th>VPD</th>\n",
       "      <th>Tsol1_10</th>\n",
       "      <th>Hv1</th>\n",
       "      <th>Hv2</th>\n",
       "    </tr>\n",
       "  </thead>\n",
       "  <tbody>\n",
       "    <tr>\n",
       "      <th>0</th>\n",
       "      <td>NaN</td>\n",
       "      <td>0.966770</td>\n",
       "      <td>NaN</td>\n",
       "      <td>NaN</td>\n",
       "      <td>NaN</td>\n",
       "      <td>NaN</td>\n",
       "      <td>0.040658</td>\n",
       "      <td>4.325519e-16</td>\n",
       "    </tr>\n",
       "    <tr>\n",
       "      <th>1</th>\n",
       "      <td>NaN</td>\n",
       "      <td>0.515884</td>\n",
       "      <td>-0.014502</td>\n",
       "      <td>-0.609769</td>\n",
       "      <td>-0.542969</td>\n",
       "      <td>-0.252160</td>\n",
       "      <td>0.048789</td>\n",
       "      <td>4.325519e-16</td>\n",
       "    </tr>\n",
       "    <tr>\n",
       "      <th>2</th>\n",
       "      <td>NaN</td>\n",
       "      <td>0.188195</td>\n",
       "      <td>-0.010761</td>\n",
       "      <td>-0.691270</td>\n",
       "      <td>-0.618200</td>\n",
       "      <td>-0.250490</td>\n",
       "      <td>0.048789</td>\n",
       "      <td>4.325519e-16</td>\n",
       "    </tr>\n",
       "    <tr>\n",
       "      <th>3</th>\n",
       "      <td>NaN</td>\n",
       "      <td>0.433752</td>\n",
       "      <td>-0.005437</td>\n",
       "      <td>-0.616124</td>\n",
       "      <td>-0.553391</td>\n",
       "      <td>-0.257726</td>\n",
       "      <td>0.048789</td>\n",
       "      <td>1.552177e-02</td>\n",
       "    </tr>\n",
       "    <tr>\n",
       "      <th>4</th>\n",
       "      <td>NaN</td>\n",
       "      <td>1.096895</td>\n",
       "      <td>-0.005760</td>\n",
       "      <td>-0.522909</td>\n",
       "      <td>-0.464583</td>\n",
       "      <td>-0.277766</td>\n",
       "      <td>0.048789</td>\n",
       "      <td>1.552177e-02</td>\n",
       "    </tr>\n",
       "    <tr>\n",
       "      <th>...</th>\n",
       "      <td>...</td>\n",
       "      <td>...</td>\n",
       "      <td>...</td>\n",
       "      <td>...</td>\n",
       "      <td>...</td>\n",
       "      <td>...</td>\n",
       "      <td>...</td>\n",
       "      <td>...</td>\n",
       "    </tr>\n",
       "    <tr>\n",
       "      <th>122635</th>\n",
       "      <td>NaN</td>\n",
       "      <td>NaN</td>\n",
       "      <td>-0.020858</td>\n",
       "      <td>0.690300</td>\n",
       "      <td>0.583999</td>\n",
       "      <td>NaN</td>\n",
       "      <td>-0.024395</td>\n",
       "      <td>7.760886e-02</td>\n",
       "    </tr>\n",
       "    <tr>\n",
       "      <th>122636</th>\n",
       "      <td>NaN</td>\n",
       "      <td>NaN</td>\n",
       "      <td>-0.012959</td>\n",
       "      <td>0.440189</td>\n",
       "      <td>0.255657</td>\n",
       "      <td>NaN</td>\n",
       "      <td>-0.024395</td>\n",
       "      <td>8.536974e-02</td>\n",
       "    </tr>\n",
       "    <tr>\n",
       "      <th>122637</th>\n",
       "      <td>NaN</td>\n",
       "      <td>NaN</td>\n",
       "      <td>-0.006576</td>\n",
       "      <td>0.384013</td>\n",
       "      <td>0.164128</td>\n",
       "      <td>NaN</td>\n",
       "      <td>-0.016263</td>\n",
       "      <td>8.536974e-02</td>\n",
       "    </tr>\n",
       "    <tr>\n",
       "      <th>122638</th>\n",
       "      <td>NaN</td>\n",
       "      <td>NaN</td>\n",
       "      <td>0.001947</td>\n",
       "      <td>0.415134</td>\n",
       "      <td>0.165980</td>\n",
       "      <td>NaN</td>\n",
       "      <td>-0.016263</td>\n",
       "      <td>8.536974e-02</td>\n",
       "    </tr>\n",
       "    <tr>\n",
       "      <th>122639</th>\n",
       "      <td>NaN</td>\n",
       "      <td>NaN</td>\n",
       "      <td>0.000942</td>\n",
       "      <td>0.511473</td>\n",
       "      <td>0.286305</td>\n",
       "      <td>NaN</td>\n",
       "      <td>-0.016263</td>\n",
       "      <td>8.536974e-02</td>\n",
       "    </tr>\n",
       "  </tbody>\n",
       "</table>\n",
       "<p>122640 rows × 8 columns</p>\n",
       "</div>"
      ],
      "text/plain": [
       "0       NEE     Ustar      Swin   T_meteo       VPD  Tsol1_10       Hv1  \\\n",
       "0       NaN  0.966770       NaN       NaN       NaN       NaN  0.040658   \n",
       "1       NaN  0.515884 -0.014502 -0.609769 -0.542969 -0.252160  0.048789   \n",
       "2       NaN  0.188195 -0.010761 -0.691270 -0.618200 -0.250490  0.048789   \n",
       "3       NaN  0.433752 -0.005437 -0.616124 -0.553391 -0.257726  0.048789   \n",
       "4       NaN  1.096895 -0.005760 -0.522909 -0.464583 -0.277766  0.048789   \n",
       "...     ...       ...       ...       ...       ...       ...       ...   \n",
       "122635  NaN       NaN -0.020858  0.690300  0.583999       NaN -0.024395   \n",
       "122636  NaN       NaN -0.012959  0.440189  0.255657       NaN -0.024395   \n",
       "122637  NaN       NaN -0.006576  0.384013  0.164128       NaN -0.016263   \n",
       "122638  NaN       NaN  0.001947  0.415134  0.165980       NaN -0.016263   \n",
       "122639  NaN       NaN  0.000942  0.511473  0.286305       NaN -0.016263   \n",
       "\n",
       "0                Hv2  \n",
       "0       4.325519e-16  \n",
       "1       4.325519e-16  \n",
       "2       4.325519e-16  \n",
       "3       1.552177e-02  \n",
       "4       1.552177e-02  \n",
       "...              ...  \n",
       "122635  7.760886e-02  \n",
       "122636  8.536974e-02  \n",
       "122637  8.536974e-02  \n",
       "122638  8.536974e-02  \n",
       "122639  8.536974e-02  \n",
       "\n",
       "[122640 rows x 8 columns]"
      ]
     },
     "execution_count": 11,
     "metadata": {},
     "output_type": "execute_result"
    }
   ],
   "source": [
    "from sklearn.preprocessing import StandardScaler\n",
    "# from sklearn.preprocessing import MinMaxScaler\n",
    "\n",
    "scaler = StandardScaler()\n",
    "scaled_arr = scaler.fit_transform(XClean.reshape(-1,8))\n",
    "XClean_df = pd.DataFrame(scaled_arr, columns = df.columns[2:])\n",
    "XClean_df"
   ]
  },
  {
   "cell_type": "code",
   "execution_count": 12,
   "id": "deecb35f-1c92-406f-8e39-db106f534c53",
   "metadata": {},
   "outputs": [
    {
     "name": "stdout",
     "output_type": "stream",
     "text": [
      "(7, 17520, 8)\n",
      "[[            nan  9.66769785e-01             nan ...             nan\n",
      "   4.06578876e-02  4.32551896e-16]\n",
      " [            nan  5.15884424e-01 -1.45015314e-02 ... -2.52159978e-01\n",
      "   4.87894652e-02  4.32551896e-16]\n",
      " [            nan  1.88194823e-01 -1.07606066e-02 ... -2.50490045e-01\n",
      "   4.87894652e-02  4.32551896e-16]\n",
      " ...\n",
      " [            nan -1.69769345e-02  1.76442955e-02 ...  9.36498781e-01\n",
      "  -2.43947326e-01 -5.12218447e-01]\n",
      " [            nan  3.43787752e-03  1.49544944e-02 ...  8.69701436e-01\n",
      "  -2.43947326e-01 -5.12218447e-01]\n",
      " [            nan             nan  2.68709081e-02 ...  8.09583825e-01\n",
      "  -2.43947326e-01 -5.12218447e-01]]\n"
     ]
    }
   ],
   "source": [
    "XClean_tensor = np.reshape(XClean_df.values, (7,-1,8) )\n",
    "print(XClean_tensor.shape)\n",
    "print(XClean_tensor[0])"
   ]
  },
  {
   "cell_type": "markdown",
   "id": "68f2ebef-ed6b-402b-9c2d-c670e2ae75dc",
   "metadata": {},
   "source": [
    "---"
   ]
  },
  {
   "cell_type": "code",
   "execution_count": null,
   "id": "bd3febd5-81a3-4d1f-bac5-63d4c5036d81",
   "metadata": {},
   "outputs": [],
   "source": []
  }
 ],
 "metadata": {
  "kernelspec": {
   "display_name": "imp_ker",
   "language": "python",
   "name": "imp_ker"
  },
  "language_info": {
   "codemirror_mode": {
    "name": "ipython",
    "version": 3
   },
   "file_extension": ".py",
   "mimetype": "text/x-python",
   "name": "python",
   "nbconvert_exporter": "python",
   "pygments_lexer": "ipython3",
   "version": "3.8.10"
  }
 },
 "nbformat": 4,
 "nbformat_minor": 5
}
